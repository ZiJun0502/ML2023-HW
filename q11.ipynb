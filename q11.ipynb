{
 "cells": [
  {
   "cell_type": "code",
   "execution_count": 1,
   "metadata": {},
   "outputs": [],
   "source": [
    "import numpy as np\n",
    "import matplotlib.pyplot as plt"
   ]
  },
  {
   "cell_type": "code",
   "execution_count": 2,
   "metadata": {},
   "outputs": [],
   "source": [
    "times = 12"
   ]
  },
  {
   "cell_type": "code",
   "execution_count": 3,
   "metadata": {},
   "outputs": [],
   "source": [
    "def linear_reg(X, Y):\n",
    "    XTX = np.dot(X.T, X)\n",
    "    XTX_inverse = np.linalg.inv(XTX)\n",
    "    XTY = np.dot(X.T, Y)\n",
    "    w_lin = np.dot(XTX_inverse, XTY)\n",
    "    return w_lin"
   ]
  },
  {
   "cell_type": "code",
   "execution_count": 536,
   "metadata": {},
   "outputs": [],
   "source": [
    "def logistic_reg(X,Y):\n",
    "    eta = 0.1\n",
    "    T = 500\n",
    "    W = np.zeros((3, 1))\n",
    "    Y = Y[:, np.newaxis]\n",
    "    for _ in range(T):\n",
    "        YWX = np.dot(X, W) * Y\n",
    "        theta_s = 1.0 / (1 + np.exp(YWX))\n",
    "        gradient = np.dot(-X.T, Y * (theta_s)) / len(Y)\n",
    "        W = W - eta * gradient\n",
    "    return W\n",
    "    "
   ]
  },
  {
   "cell_type": "code",
   "execution_count": 537,
   "metadata": {},
   "outputs": [
    {
     "name": "stdout",
     "output_type": "stream",
     "text": [
      "(3, 1)\n"
     ]
    }
   ],
   "source": [
    "W = np.zeros((3, 1))\n",
    "X = X_train\n",
    "Y= Y_train\n",
    "YWX = np.dot(X, W) * Y[:, np.newaxis]\n",
    "theta_s = 1.0 / (1 + np.exp(-YWX))\n",
    "gradient = np.dot(-X.T, Y[:, np.newaxis] * (1 - theta_s)) / len(Y)\n",
    "W = W - 1 * gradient\n",
    "print(gradient.shape)\n",
    "# W = W - 1 * gradient\n"
   ]
  },
  {
   "cell_type": "code",
   "execution_count": 538,
   "metadata": {},
   "outputs": [],
   "source": [
    "\n",
    "def generate_data(seed_num):\n",
    "\n",
    "    # Set the random seed for reproducibility\n",
    "    np.random.seed(seed_num)\n",
    "\n",
    "    # Number of training examples (N)\n",
    "    N = 256\n",
    "\n",
    "    # Number of test examples\n",
    "    N_test = 4096\n",
    "\n",
    "    # Initialize empty arrays for training and test data\n",
    "    X_train = []\n",
    "    Y_train = []\n",
    "    X_test = []\n",
    "    Y_test = []\n",
    "\n",
    "    # Generate training data\n",
    "    for _ in range(N):\n",
    "        # Step 1: Flip a fair coin to get either y = +1 or y = -1\n",
    "        y = np.random.choice([1, -1])\n",
    "        \n",
    "        # Step 2: Generate x based on the value of y\n",
    "        if y == 1:\n",
    "            mean = [3, 2]\n",
    "            cov = [[0.4, 0], [0, 0.4]]\n",
    "        else:\n",
    "            mean = [5, 0]\n",
    "            cov = [[0.6, 0], [0, 0.6]]\n",
    "        \n",
    "        x = np.random.multivariate_normal(mean, cov)\n",
    "        \n",
    "        # Append to training data\n",
    "        X_train.append(np.insert(x, 0, 1))\n",
    "        Y_train.append(y)\n",
    "\n",
    "    # Generate test data\n",
    "    for _ in range(N_test):\n",
    "        # Step 1: Flip a fair coin to get either y = +1 or y = -1\n",
    "        y = np.random.choice([1, -1])\n",
    "        \n",
    "        # Step 2: Generate x based on the value of y\n",
    "        if y == 1:\n",
    "            mean = [3, 2]\n",
    "            cov = [[0.4, 0], [0, 0.4]]\n",
    "        else:\n",
    "            mean = [5, 0]\n",
    "            cov = [[0.6, 0], [0, 0.6]]\n",
    "        \n",
    "        x = np.random.multivariate_normal(mean, cov)\n",
    "        \n",
    "        # Append to test data\n",
    "        X_test.append(np.insert(x, 0, 1))\n",
    "        Y_test.append(y)\n",
    "\n",
    "    # Convert data to numpy arrays\n",
    "    X_train = np.array(X_train)\n",
    "    Y_train = np.array(Y_train)\n",
    "    X_test = np.array(X_test)\n",
    "    Y_test = np.array(Y_test)\n",
    "    \n",
    "    # Now, X_train, Y_train, X_test, and Y_test contain the generated training and test data as described.\n",
    "    # print(X_train)\n",
    "    return(X_train, Y_train, X_test, Y_test)\n"
   ]
  },
  {
   "cell_type": "code",
   "execution_count": 539,
   "metadata": {},
   "outputs": [
    {
     "data": {
      "text/plain": [
       "array([[ 1.        ,  5.40312611, -0.50993593],\n",
       "       [ 1.        ,  4.62440565, -0.98283355],\n",
       "       [ 1.        ,  3.2315844 , -0.94710622],\n",
       "       ...,\n",
       "       [ 1.        ,  3.62518984,  2.44779236],\n",
       "       [ 1.        ,  5.36060193,  1.04432683],\n",
       "       [ 1.        ,  3.32479984,  1.88945655]])"
      ]
     },
     "execution_count": 539,
     "metadata": {},
     "output_type": "execute_result"
    }
   ],
   "source": [
    "X_test"
   ]
  },
  {
   "cell_type": "code",
   "execution_count": 540,
   "metadata": {},
   "outputs": [
    {
     "data": {
      "text/plain": [
       "array([[ -27.36028505],\n",
       "       [-137.63452412],\n",
       "       [  -4.01659659]])"
      ]
     },
     "execution_count": 540,
     "metadata": {},
     "output_type": "execute_result"
    }
   ],
   "source": [
    "W_B"
   ]
  },
  {
   "cell_type": "code",
   "execution_count": 541,
   "metadata": {},
   "outputs": [],
   "source": [
    "E_out_A = []\n",
    "E_out_B = []\n",
    "for i in range(times):\n",
    "    X_train, Y_train, X_test, Y_test = generate_data(i)\n",
    "    # print(Y_train.shape)\n",
    "    W_A = linear_reg(X_train, Y_train)\n",
    "    W_B = logistic_reg(X_train,Y_train)\n",
    "    # print(W_lin)\n",
    "    predicted_values_A = np.sign(np.dot(X_test, W_A))\n",
    "    predicted_values_B = np.sign(np.dot(X_test, W_B))\n",
    "    # print(W_A, W_B)\n",
    "    # Calculate the 0/1 error\n",
    "    zero_one_error_A = np.sum(predicted_values_A != Y_test)\n",
    "    zero_one_error_B = np.sum(predicted_values_B != Y_test[:, np.newaxis])\n",
    "    mbe_A = np.mean(zero_one_error_A)\n",
    "    mbe_B = np.mean(zero_one_error_B)\n",
    "    \n",
    "    E_out_A.append(mbe_A)\n",
    "    E_out_B.append(mbe_B)\n",
    "\n",
    "\n",
    "    "
   ]
  },
  {
   "cell_type": "code",
   "execution_count": 542,
   "metadata": {},
   "outputs": [
    {
     "data": {
      "text/plain": [
       "(4096,)"
      ]
     },
     "execution_count": 542,
     "metadata": {},
     "output_type": "execute_result"
    }
   ],
   "source": [
    "(Y_test).shape"
   ]
  },
  {
   "cell_type": "code",
   "execution_count": 543,
   "metadata": {},
   "outputs": [
    {
     "name": "stdout",
     "output_type": "stream",
     "text": [
      "The median number of E_out_A: 102.5\n",
      "The median number of E_out_B: 150.5\n"
     ]
    },
    {
     "data": {
      "image/png": "[encoded data removed]",
      "text/plain": [
       "<Figure size 640x480 with 1 Axes>"
      ]
     },
     "metadata": {},
     "output_type": "display_data"
    }
   ],
   "source": [
    "print(f'The median number of E_out_A: {np.median(E_out_A)}')\n",
    "print(f'The median number of E_out_B: {np.median(E_out_B)}')\n",
    "plt.scatter(E_out_A, E_out_B, c='blue', marker='o', label='Scatter Plot')\n",
    "\n",
    "# Label the axes\n",
    "plt.xlabel('E0/1 out (A(D))')\n",
    "plt.ylabel('E0/1 out (B(D))')\n",
    "\n",
    "# Add a legend\n",
    "plt.legend()\n",
    "\n",
    "# Show the plot\n",
    "plt.show()"
   ]
  }
 ],
 "metadata": {
  "kernelspec": {
   "display_name": "Python 3",
   "language": "python",
   "name": "python3"
  },
  "language_info": {
   "codemirror_mode": {
    "name": "ipython",
    "version": 3
   },
   "file_extension": ".py",
   "mimetype": "text/x-python",
   "name": "python",
   "nbconvert_exporter": "python",
   "pygments_lexer": "ipython3",
   "version": "3.9.6"
  }
 },
 "nbformat": 4,
 "nbformat_minor": 2
}
