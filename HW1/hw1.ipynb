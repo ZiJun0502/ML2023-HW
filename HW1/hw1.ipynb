{
  "cells": [
    {
      "cell_type": "markdown",
      "metadata": {
        "id": "X_Te27fi-0pP"
      },
      "source": [
        "# **HW1: Regression**\n",
        "In *assignment 1*, you need to finish:\n",
        "\n",
        "1.  Basic Part: Implement two regression models to predict the Systolic blood pressure (SBP) of a patient. You will need to implement **both Matrix Inversion and Gradient Descent**.\n",
        "\n",
        "\n",
        "> *   Step 1: Split Data\n",
        "> *   Step 2: Preprocess Data\n",
        "> *   Step 3: Implement Regression\n",
        "> *   Step 4: Make Prediction\n",
        "> *   Step 5: Train Model and Generate Result\n",
        "\n",
        "2.  Advanced Part: Implement one regression model to predict the SBP of multiple patients in a different way than the basic part. You can choose **either** of the two methods for this part."
      ]
    },
    {
      "cell_type": "markdown",
      "metadata": {
        "id": "_wDdnos-4uUv"
      },
      "source": [
        "# **1. Basic Part (55%)**\n",
        "In the first part, you need to implement the regression to predict SBP from the given DBP\n"
      ]
    },
    {
      "cell_type": "markdown",
      "metadata": {
        "id": "C_EVqWlB-DTF"
      },
      "source": [
        "## 1.1 Matrix Inversion Method (25%)\n",
        "\n",
        "\n",
        "*   Save the prediction result in a csv file **hw1_basic_mi.csv**\n",
        "*   Print your coefficient\n"
      ]
    },
    {
      "cell_type": "markdown",
      "metadata": {
        "id": "RzCR7vk9BFkf"
      },
      "source": [
        "### *Import Packages*\n",
        "\n",
        "> Note: You **cannot** import any other package"
      ]
    },
    {
      "cell_type": "code",
      "execution_count": 319,
      "metadata": {
        "id": "HL5XjqFf4wSj"
      },
      "outputs": [],
      "source": [
        "import numpy as np\n",
        "import matplotlib.pyplot as plt\n",
        "import pandas as pd\n",
        "import csv\n",
        "import math\n",
        "import random"
      ]
    },
    {
      "cell_type": "markdown",
      "metadata": {
        "id": "jnWjrzi0dMPz"
      },
      "source": [
        "### *Global attributes*\n",
        "Define the global attributes"
      ]
    },
    {
      "cell_type": "code",
      "execution_count": 320,
      "metadata": {
        "id": "EWLDPOlHBbcK"
      },
      "outputs": [],
      "source": [
        "training_dataroot = 'hw1_basic_training.csv' # Training data file file named as 'hw1_basic_training.csv'\n",
        "testing_dataroot = 'hw1_basic_testing.csv'   # Testing data file named as 'hw1_basic_training.csv'\n",
        "output_dataroot = 'hw1_basic_mi.csv' # Output file will be named as 'hw1_basic.csv'\n",
        "\n",
        "training_datalist =  [] # Training datalist, saved as numpy array\n",
        "testing_datalist =  [] # Testing datalist, saved as numpy array\n",
        "\n",
        "output_datalist =  [] # Your prediction, should be 20 * 1 matrix and saved as numpy array\n",
        "                      # The format of each row should be ['sbp']\n"
      ]
    },
    {
      "cell_type": "markdown",
      "metadata": {
        "id": "PsFC-cvqIcYK"
      },
      "source": [
        "You can add your own global attributes here\n"
      ]
    },
    {
      "cell_type": "code",
      "execution_count": 321,
      "metadata": {
        "id": "OUbS2BEgcut6"
      },
      "outputs": [],
      "source": [
        "validating_datalist = []"
      ]
    },
    {
      "cell_type": "markdown",
      "metadata": {
        "id": "rUoRFoQjBW5S"
      },
      "source": [
        "### *Load the Input File*\n",
        "First, load the basic input file **hw1_basic_training.csv** and **hw1_basic_testing.csv**\n",
        "\n",
        "Input data would be stored in *training_datalist* and *testing_datalist*"
      ]
    },
    {
      "cell_type": "code",
      "execution_count": 322,
      "metadata": {
        "id": "dekR1KnqBtI6"
      },
      "outputs": [],
      "source": [
        "# Read input csv to datalist\n",
        "with open(training_dataroot, newline='') as csvfile:\n",
        "  training_datalist = np.array(list(csv.reader(csvfile))[1::]).astype(int)\n",
        "with open(testing_dataroot, newline='') as csvfile:\n",
        "  testing_datalist = np.array(list(csv.reader(csvfile))[1::]).astype(int)"
      ]
    },
    {
      "cell_type": "markdown",
      "metadata": {
        "id": "6kYPuikLCFx4"
      },
      "source": [
        "### *Implement the Regression Model*\n",
        "\n",
        "> Note: It is recommended to use the functions we defined, you can also define your own functions\n"
      ]
    },
    {
      "cell_type": "markdown",
      "metadata": {
        "id": "jWwdx06JNEYs"
      },
      "source": [
        "#### Step 1: Split Data\n",
        "Split data in *training_datalist* into training dataset and validation dataset\n",
        "* Validation dataset is used to validate your own model without the testing data\n",
        "\n"
      ]
    },
    {
      "cell_type": "code",
      "execution_count": 323,
      "metadata": {
        "id": "USDciENcB-5F"
      },
      "outputs": [],
      "source": [
        "np.random.seed(98746)\n",
        "def SplitData():\n",
        "  global training_datalist\n",
        "  global validating_datalist\n",
        "\n",
        "  num_samples = len(training_datalist)\n",
        "  split_ratio = 0.8\n",
        "  split_index = int(num_samples * split_ratio)\n",
        "\n",
        "  indices = np.arange(num_samples)\n",
        "  np.random.shuffle(indices)\n",
        "\n",
        "  train_indices = indices[:split_index]\n",
        "  val_indices = indices[split_index:]\n",
        "\n",
        "  train_indices.sort()\n",
        "  val_indices.sort()\n",
        "  training_datalist, validating_datalist = training_datalist[train_indices], training_datalist[val_indices]\n",
        "SplitData()"
      ]
    },
    {
      "cell_type": "markdown",
      "metadata": {
        "id": "u-3Qln4aNgVy"
      },
      "source": [
        "#### Step 2: Preprocess Data\n",
        "Handle the unreasonable data\n",
        "> Hint: Outlier and missing data can be handled by removing the data or adding the values with the help of statistics  "
      ]
    },
    {
      "cell_type": "code",
      "execution_count": 324,
      "metadata": {
        "colab": {
          "base_uri": "https://localhost:8080/",
          "height": 449
        },
        "id": "XXvW1n_5NkQ5",
        "outputId": "6773c624-7d22-462e-ab95-a5bbd953e59c"
      },
      "outputs": [
        {
          "data": {
            "image/png": "[encoded data removed]",
            "text/plain": [
              "<Figure size 640x480 with 1 Axes>"
            ]
          },
          "metadata": {},
          "output_type": "display_data"
        }
      ],
      "source": [
        "def PreprocessData():\n",
        "  global training_datalist\n",
        "  sbp = training_datalist[:, 0]\n",
        "  dbp = training_datalist[:, 1]\n",
        "  # print(sbp)\n",
        "  sbp_avg = np.mean(sbp)\n",
        "  sbp_std = np.std(sbp)\n",
        "\n",
        "  dbp_avg = np.mean(dbp)\n",
        "  dbp_std = np.std(dbp)\n",
        "\n",
        "  threshold = 2.0\n",
        "  sbp_z_scores = np.abs((sbp - sbp_avg) / sbp_std)\n",
        "  dbp_z_scores = np.abs((dbp - dbp_avg) / dbp_std)\n",
        "\n",
        "  sbp_outliers = sbp_z_scores > threshold\n",
        "  dbp_outliers = dbp_z_scores > threshold\n",
        "  outlier_mask = sbp_outliers | dbp_outliers\n",
        "\n",
        "  training_datalist = training_datalist[~outlier_mask]\n",
        "  # print(training_datalist)\n",
        "  plt.scatter(training_datalist[:, 0], training_datalist[:, 1])\n",
        "  plt.ylabel('SBP')\n",
        "  plt.xlabel('DBP')\n",
        "  plt.show()\n",
        "PreprocessData()"
      ]
    },
    {
      "cell_type": "markdown",
      "metadata": {
        "id": "yDLpJmQUN3V6"
      },
      "source": [
        "#### Step 3: Implement Regression\n",
        "> use Matrix Inversion to finish this part\n",
        "\n",
        "\n"
      ]
    },
    {
      "cell_type": "code",
      "execution_count": 325,
      "metadata": {
        "id": "Tx9n1_23N8C0"
      },
      "outputs": [],
      "source": [
        "def MatrixInversion(input_datalist):\n",
        "  dbp = input_datalist[:, 0]\n",
        "  sbp = input_datalist[:, 1]\n",
        "  d = 1\n",
        "  n = len(dbp)\n",
        "\n",
        "  X = np.zeros((n, d+1))\n",
        "  X[:,0] = 1\n",
        "  X[:,1] = dbp\n",
        "  return np.matmul(np.linalg.inv(np.matmul(X.T, X)), X.T).dot(sbp)"
      ]
    },
    {
      "cell_type": "markdown",
      "metadata": {
        "id": "OtB-vLescwog"
      },
      "source": [
        "### Evaluate MAPE"
      ]
    },
    {
      "cell_type": "code",
      "execution_count": 326,
      "metadata": {
        "colab": {
          "base_uri": "https://localhost:8080/"
        },
        "id": "aYOZOLy6dkQp",
        "outputId": "388e7dbe-cf4e-4801-8ec3-9c9c3abf83a6"
      },
      "outputs": [],
      "source": [
        "def EvaluateMAPE(w):\n",
        "  dbp = validating_datalist[:, 0]\n",
        "  sbp = validating_datalist[:, 1]\n",
        "  sbp_p = w[0] + w[1]*dbp\n",
        "  N = len(validating_datalist)\n",
        "  MAPE = sum(abs(sbp-sbp_p)/sbp)/N\n",
        "  return MAPE"
      ]
    },
    {
      "cell_type": "markdown",
      "metadata": {
        "id": "2NxRNFwyN8xd"
      },
      "source": [
        "#### Step 4: Make Prediction\n",
        "Make prediction of testing dataset and store the value in *output_datalist*\n",
        "The final *output_datalist* should look something like this\n",
        "> [ [100], [80], ... , [90] ] where each row contains the predicted SBP"
      ]
    },
    {
      "cell_type": "code",
      "execution_count": 327,
      "metadata": {
        "id": "EKlDIC2-N_lk"
      },
      "outputs": [],
      "source": [
        "def MakePrediction(w):\n",
        "  global output_datalist\n",
        "  dbp = testing_datalist[:, 0]\n",
        "  output_datalist = w[0] + w[1]*dbp"
      ]
    },
    {
      "cell_type": "markdown",
      "metadata": {
        "id": "cCd0Z6izOCwq"
      },
      "source": [
        "#### Step 5: Train Model and Generate Result\n",
        "\n",
        "> Notice: **Remember to output the coefficients of the model here**, otherwise 5 points would be deducted\n",
        "* If your regression model is *3x^2 + 2x^1 + 1*, your output would be:\n",
        "```\n",
        "3 2 1\n",
        "```\n",
        "\n",
        "\n",
        "\n"
      ]
    },
    {
      "cell_type": "code",
      "execution_count": 328,
      "metadata": {
        "colab": {
          "base_uri": "https://localhost:8080/"
        },
        "id": "iCL92EPKOFIn",
        "outputId": "4297c35a-9f1b-429d-d138-6eb18ef14f6c"
      },
      "outputs": [
        {
          "data": {
            "image/png": "[encoded data removed]",
            "text/plain": [
              "<Figure size 640x480 with 1 Axes>"
            ]
          },
          "metadata": {},
          "output_type": "display_data"
        },
        {
          "name": "stdout",
          "output_type": "stream",
          "text": [
            "MAPE = 0.06186261310171651\n",
            "0.9494971091803901 50.39231839528601\n"
          ]
        }
      ],
      "source": [
        "w = MatrixInversion(training_datalist)\n",
        "plt.scatter(training_datalist[:, 0], training_datalist[:, 1])\n",
        "x = np.linspace(0,120)\n",
        "plt.plot(x, x * w[1] + w[0])\n",
        "plt.ylabel('SBP')\n",
        "plt.xlabel('DBP')\n",
        "plt.show()\n",
        "print(\"MAPE =\",EvaluateMAPE(w))\n",
        "MakePrediction(w)\n",
        "print(' '.join(map(str, w[::-1])))"
      ]
    },
    {
      "cell_type": "markdown",
      "metadata": {
        "id": "J8Jhd8wAOk3D"
      },
      "source": [
        "### *Write the Output File*\n",
        "Write the prediction to output csv\n",
        "> Format: 'sbp'\n",
        "\n",
        "\n"
      ]
    },
    {
      "cell_type": "code",
      "execution_count": 329,
      "metadata": {
        "id": "tYQVYLlKOtDB"
      },
      "outputs": [],
      "source": [
        "with open(output_dataroot, 'w', newline='', encoding=\"utf-8\") as csvfile:\n",
        "  writer = csv.writer(csvfile)\n",
        "  for row in output_datalist:\n",
        "    writer.writerow([row])"
      ]
    },
    {
      "cell_type": "markdown",
      "metadata": {
        "id": "1J3WOhglA9ML"
      },
      "source": [
        "## 1.2 Gradient Descent Method (30%)\n",
        "\n",
        "\n",
        "*   Save the prediction result in a csv file **hw1_basic_gd.csv**\n",
        "*   Output your coefficient update in a csv file **hw1_basic_coefficient.csv**\n",
        "*   Print your coefficient\n",
        "\n",
        "\n",
        "\n"
      ]
    },
    {
      "cell_type": "markdown",
      "metadata": {
        "id": "TkMqa_xjXhEv"
      },
      "source": [
        "### *Global attributes*"
      ]
    },
    {
      "cell_type": "code",
      "execution_count": 330,
      "metadata": {
        "id": "wNZtRWUeXpEu"
      },
      "outputs": [],
      "source": [
        "output_dataroot = 'hw1_basic_gd.csv' # Output file will be named as 'hw1_basic.csv'\n",
        "coefficient_output_dataroot = 'hw1_basic_coefficient.csv'\n",
        "coefficient_output = [] # Your coefficient update during gradient descent\n",
        "                   # Should be a (number of iterations * number_of coefficient) matrix\n",
        "                   # The format of each row should be ['w0', 'w1', ...., 'wn']"
      ]
    },
    {
      "cell_type": "markdown",
      "metadata": {
        "id": "I5DeHxdLdai3"
      },
      "source": [
        "Your own global attributes"
      ]
    },
    {
      "cell_type": "code",
      "execution_count": null,
      "metadata": {
        "id": "_2IO5tYSdaFd"
      },
      "outputs": [],
      "source": []
    },
    {
      "cell_type": "markdown",
      "metadata": {
        "id": "RVBLT1aqXuW0"
      },
      "source": [
        "### *Implement the Regression Model*\n"
      ]
    },
    {
      "cell_type": "markdown",
      "metadata": {
        "id": "ecPWpcOnXhCZ"
      },
      "source": [
        "#### Step 1: Split Data"
      ]
    },
    {
      "cell_type": "code",
      "execution_count": 331,
      "metadata": {
        "id": "1PEf_qGvYHu0"
      },
      "outputs": [],
      "source": [
        "def SplitData():\n",
        "    pass"
      ]
    },
    {
      "cell_type": "markdown",
      "metadata": {
        "id": "lpSoPDPKX56w"
      },
      "source": [
        "#### Step 2: Preprocess Data"
      ]
    },
    {
      "cell_type": "code",
      "execution_count": 332,
      "metadata": {
        "id": "uLTXOWRwYHiS"
      },
      "outputs": [],
      "source": [
        "def PreprocessData():\n",
        "    pass"
      ]
    },
    {
      "cell_type": "markdown",
      "metadata": {
        "id": "TV_y82gXX6a-"
      },
      "source": [
        "#### Step 3: Implement Regression\n",
        "> use Gradient Descent to finish this part"
      ]
    },
    {
      "cell_type": "code",
      "execution_count": 333,
      "metadata": {
        "id": "-635Ee00YHTE"
      },
      "outputs": [],
      "source": [
        "def GradientDescent(input_datalist, num_iter, eta, lamb = 3):\n",
        "    dbp = input_datalist[:, 0]\n",
        "    sbp = input_datalist[:, 1]\n",
        "    d = 1\n",
        "    n = len(dbp)\n",
        "    X = np.zeros((n, d+1))\n",
        "    X[:,0] = 1\n",
        "    X[:,1] = dbp\n",
        "    w = np.zeros((d+1))\n",
        "    w[0] = 60\n",
        "    w[1] = 1\n",
        "    coefficient_output.append(w[::-1])\n",
        "    for i in range(num_iter):\n",
        "        # w' = w - ag\n",
        "        y_predict = np.dot(w, X.T)\n",
        "        g = -(1/n)*np.dot((sbp - y_predict).T, X) + lamb * w\n",
        "        # print(g)\n",
        "        w = w - eta*g\n",
        "        coefficient_output.append(w[::-1])\n",
        "    return w\n",
        "num_iter = 1000\n",
        "learning_rate = 1e-4"
      ]
    },
    {
      "cell_type": "markdown",
      "metadata": {},
      "source": [
        "### Evaluate MAPE"
      ]
    },
    {
      "cell_type": "code",
      "execution_count": 334,
      "metadata": {},
      "outputs": [],
      "source": [
        "def EvaluateMAPE(w):\n",
        "  dbp = validating_datalist[:, 0]\n",
        "  sbp = validating_datalist[:, 1]\n",
        "  sbp_p = w[0] + w[1]*dbp\n",
        "  N = len(validating_datalist)\n",
        "  MAPE = sum(abs(sbp-sbp_p)/sbp)/N\n",
        "  return MAPE"
      ]
    },
    {
      "cell_type": "markdown",
      "metadata": {
        "id": "nLuPxs2ZX21S"
      },
      "source": [
        "#### Step 4: Make Prediction\n",
        "\n",
        "Make prediction of testing dataset and store the values in *output_datalist*\n",
        "The final *output_datalist* should look something like this\n",
        "> [ [100], [80], ... , [90] ] where each row contains the predicted SBP\n",
        "\n",
        "Remember to also store your coefficient update in *coefficient_output*\n",
        "The final *coefficient_output* should look something like this\n",
        "> [ [1, 0, 3, 5], ... , [0.1, 0.3, 0.2, 0.5] ] where each row contains the [w0, w1, ..., wn] of your coefficient\n",
        "\n",
        "\n",
        "\n"
      ]
    },
    {
      "cell_type": "code",
      "execution_count": 335,
      "metadata": {
        "id": "8pnNDlQeYGtE"
      },
      "outputs": [],
      "source": [
        "def MakePrediction(w):\n",
        "    global output_datalist\n",
        "    dbp = testing_datalist[:,0]\n",
        "    output_datalist = w[0] + w[1] * dbp"
      ]
    },
    {
      "cell_type": "markdown",
      "metadata": {
        "id": "IScbxxMAYAgZ"
      },
      "source": [
        "#### Step 5: Train Model and Generate Result\n",
        "\n",
        "> Notice: **Remember to output the coefficients of the model here**, otherwise 5 points would be deducted\n",
        "* If your regression model is *3x^2 + 2x^1 + 1*, your output would be:\n",
        "```\n",
        "3 2 1\n",
        "```\n",
        "\n"
      ]
    },
    {
      "cell_type": "code",
      "execution_count": 336,
      "metadata": {
        "id": "90EisOc7YG-N"
      },
      "outputs": [
        {
          "name": "stdout",
          "output_type": "stream",
          "text": [
            "MAPE = 0.06163099146665143\n",
            "0.964190859872445 49.11718405915251\n"
          ]
        }
      ],
      "source": [
        "w = GradientDescent(training_datalist, num_iter, learning_rate)\n",
        "print(\"MAPE =\",EvaluateMAPE(w))\n",
        "MakePrediction(w)\n",
        "print(' '.join(map(str, w[::-1])))"
      ]
    },
    {
      "cell_type": "markdown",
      "metadata": {
        "id": "_1DpV_HcYFpl"
      },
      "source": [
        "### *Write the Output File*\n",
        "\n",
        "Write the prediction to output csv\n",
        "> Format: 'sbp'\n",
        "\n",
        "**Write the coefficient update to csv**\n",
        "> Format: 'w0', 'w1', ..., 'wn'\n",
        ">*   The number of columns is based on your number of coefficient\n",
        ">*   The number of row is based on your number of iterations"
      ]
    },
    {
      "cell_type": "code",
      "execution_count": 280,
      "metadata": {
        "id": "NLSHgpDvDXNI"
      },
      "outputs": [],
      "source": [
        "with open(output_dataroot, 'w', newline='', encoding=\"utf-8\") as csvfile:\n",
        "  writer = csv.writer(csvfile)\n",
        "  for row in output_datalist:\n",
        "    writer.writerow([row])\n",
        "\n",
        "with open(coefficient_output_dataroot, 'w', newline='', encoding=\"utf-8\") as csvfile:\n",
        "  writer = csv.writer(csvfile)\n",
        "  for row in coefficient_output:\n",
        "    writer.writerow(row)"
      ]
    },
    {
      "cell_type": "markdown",
      "metadata": {
        "id": "rx4408qg4xMQ"
      },
      "source": [
        "# **2. Advanced Part (40%)**\n",
        "In the second part, you need to implement the regression in a different way than the basic part to help your predictions of multiple patients SBP.\n",
        "\n",
        "You can choose **either** Matrix Inversion or Gradient Descent method.\n",
        "\n",
        "The training data will be in **hw1_advanced_training.csv** and the testing data will be in **hw1_advanced_testing.csv**.\n",
        "\n",
        "Output your prediction in **hw1_advanced.csv**\n",
        "\n",
        "Notice:\n",
        "> You cannot import any other package other than those given\n",
        "\n"
      ]
    },
    {
      "cell_type": "markdown",
      "metadata": {
        "id": "C6B-ergZwHWv"
      },
      "source": [
        "### Input the training and testing dataset"
      ]
    },
    {
      "cell_type": "code",
      "execution_count": 155,
      "metadata": {
        "id": "v66HUClZcxaE"
      },
      "outputs": [],
      "source": [
        "training_dataroot = 'hw1_advanced_training.csv' # Training data file file named as 'hw1_basic_training.csv'\n",
        "testing_dataroot = 'hw1_advanced_testing.csv'   # Testing data file named as 'hw1_basic_training.csv'\n",
        "output_dataroot = 'hw1_advanced.csv' # Output file will be named as 'hw1_basic.csv'\n",
        "\n",
        "testing_datalist =  [] # Testing datalist, saved as numpy array\n",
        "input_datalist = []\n",
        "output_datalist =  [] # Your prediction, should be 220 * 1 matrix and saved as numpy array\n",
        "                      # The format of each row should be ['sbp']"
      ]
    },
    {
      "cell_type": "markdown",
      "metadata": {},
      "source": [
        "Global attributes"
      ]
    },
    {
      "cell_type": "code",
      "execution_count": 156,
      "metadata": {},
      "outputs": [],
      "source": [
        "p_train = [] # training dataset\n",
        "p_val = []   # validating dataset\n",
        "patient = []\n",
        "patient_test = []\n",
        "num_patient = 11"
      ]
    },
    {
      "cell_type": "markdown",
      "metadata": {
        "id": "waEvaQi4wHWw"
      },
      "source": [
        "### Your Implementation"
      ]
    },
    {
      "cell_type": "markdown",
      "metadata": {},
      "source": [
        "### Preprocess the data"
      ]
    },
    {
      "cell_type": "markdown",
      "metadata": {},
      "source": [
        "Load data"
      ]
    },
    {
      "cell_type": "code",
      "execution_count": 157,
      "metadata": {
        "id": "2qD-fMjVwHWw"
      },
      "outputs": [],
      "source": [
        "with open(training_dataroot, newline='') as csvfile:\n",
        "  input_datalist = np.array(list(csv.reader(csvfile))[1::])\n",
        "with open(testing_dataroot, newline='') as csvfile:\n",
        "  testing_datalist = np.array(list(csv.reader(csvfile))[1::])"
      ]
    },
    {
      "cell_type": "markdown",
      "metadata": {},
      "source": [
        "Split the data for each patient, i-th patient's data should be accessed by **patient[i]**"
      ]
    },
    {
      "cell_type": "code",
      "execution_count": 158,
      "metadata": {},
      "outputs": [],
      "source": [
        "def SplitData(input_datalist):\n",
        "    end = []\n",
        "    last = 0\n",
        "    for i, row in enumerate(input_datalist):\n",
        "        if row[0] != input_datalist[last][0]:\n",
        "            last = i\n",
        "            end.append(i) # the index of i-th patient's last row\n",
        "    end.append(len(input_datalist))\n",
        "    patient = []\n",
        "    last = 0\n",
        "    for i in end:\n",
        "        patient.append(input_datalist[last:i][:,1:])\n",
        "        last = i\n",
        "    return patient"
      ]
    },
    {
      "cell_type": "markdown",
      "metadata": {},
      "source": [
        "Replace the empty data with zeros, change the format of charttime to seconds, and turn the data type of the table from str to float. Finally, remove the outliers."
      ]
    },
    {
      "cell_type": "code",
      "execution_count": 159,
      "metadata": {},
      "outputs": [],
      "source": [
        "def TransformData(patient):\n",
        "  for i in range(num_patient):\n",
        "    for j in range(len(patient[i])):\n",
        "      for k in range(len(patient[i][j])):\n",
        "        if patient[i][j][k] == \"\":\n",
        "          patient[i][j][k] = \"0\"\n",
        "  for i in range(num_patient):\n",
        "    for j, charttime in enumerate(patient[i][:,0]):\n",
        "      s = charttime.split()\n",
        "      ss = s[2].split(':')\n",
        "      sec = int(s[0]) * 86400 + int(ss[0])*3600 + int(ss[1])*60 + int(ss[2])\n",
        "      patient[i][j][0] = sec\n",
        "\n",
        "  for i, p in enumerate(patient):\n",
        "    patient[i] = p.astype(float)\n",
        "  \n",
        "  return patient\n",
        "\n",
        "\n",
        "def CleanData(patient): \n",
        "  threshold = 2.0\n",
        "  for i, p in enumerate(patient):\n",
        "      outlier_mask = np.zeros(len(p[:,0]), dtype=bool)\n",
        "      for c in range(1, len(p[0])):  # excluding the charttime\n",
        "          col = p[:, c]\n",
        "          nonzeros_mask = col != 0.0   # we keep empty data\n",
        "          # print(zeros_mask)\n",
        "          col_avg = np.mean(col[nonzeros_mask])\n",
        "          col_std = np.std(col[nonzeros_mask])\n",
        "          col_z_score = np.abs((col - col_avg) / col_std)\n",
        "          col_outliers = col_z_score > threshold\n",
        "          outlier_mask |= (col_outliers & nonzeros_mask)\n",
        "      patient[i] = p[~outlier_mask]\n",
        "  return patient"
      ]
    },
    {
      "cell_type": "markdown",
      "metadata": {},
      "source": [
        "Fill in the missing data, assuming that the values follow a 24-hour cyclic pattern. The empty values are replaced with the mean of the hour."
      ]
    },
    {
      "cell_type": "code",
      "execution_count": 160,
      "metadata": {},
      "outputs": [],
      "source": [
        "def FillData(patient):\n",
        "    for p in range(num_patient):\n",
        "        for j in range(1, 5):\n",
        "            mean = []\n",
        "            cur_col = patient[p][:,j]        # column to fill the missing data\n",
        "            # calculate the mean of each hour for the column \n",
        "            for i in range(24):\n",
        "                time_col = patient[p][:,0]   # charttime\n",
        "                nonzeros_mask = cur_col != 0 # we need to calculate the mean excluding zero values\n",
        "                mask = (time_col % 86400) < (i + 1) * 3600\n",
        "                mask &= (time_col % 86400) > i * 3600\n",
        "                mask &= nonzeros_mask\n",
        "                m = np.mean(cur_col[mask])\n",
        "                mean.append(m)\n",
        "                \n",
        "            # replace zero values with mean of the hour\n",
        "            for i, val in enumerate(cur_col):\n",
        "                if(abs(val - 0.0) < 1e-3):\n",
        "                    hour = int((time_col[i] % 86400)//3600)\n",
        "                    expected_value = mean[hour]\n",
        "                    patient[p][:,j][i] = expected_value\n",
        "    return patient"
      ]
    },
    {
      "cell_type": "markdown",
      "metadata": {},
      "source": [
        "Split data into validation and training datasets"
      ]
    },
    {
      "cell_type": "code",
      "execution_count": 161,
      "metadata": {},
      "outputs": [],
      "source": [
        "def SplitValidation(patient):\n",
        "    np.random.seed(864540)\n",
        "\n",
        "    global p_train\n",
        "    global p_val\n",
        "\n",
        "    split_ratio = 0.8  # 80% training, 20% validation\n",
        "\n",
        "    for p in patient:\n",
        "        num_samples = p.shape[0]\n",
        "        split_index = int(num_samples * split_ratio)\n",
        "\n",
        "        indices = np.arange(num_samples)\n",
        "        np.random.shuffle(indices)\n",
        "\n",
        "        train_indices = indices[:split_index]\n",
        "        val_indices = indices[split_index:]\n",
        "\n",
        "        train_indices.sort()\n",
        "        val_indices.sort()\n",
        "        train_data = p[train_indices, :]\n",
        "        val_data = p[val_indices, :]\n",
        "\n",
        "        p_train.append(train_data)\n",
        "        p_val.append(val_data)"
      ]
    },
    {
      "cell_type": "markdown",
      "metadata": {},
      "source": [
        "Preprocess as a whole:"
      ]
    },
    {
      "cell_type": "code",
      "execution_count": 162,
      "metadata": {},
      "outputs": [],
      "source": [
        "def PreprocessTrainingData(input_datalist):\n",
        "    input_datalist = SplitData(input_datalist)\n",
        "    input_datalist = TransformData(input_datalist)\n",
        "    input_datalist = CleanData(input_datalist)\n",
        "    input_datalist = FillData(input_datalist)\n",
        "    return input_datalist\n",
        "\n",
        "\n",
        "def PreprocessTestingData(input_datalist):\n",
        "    input_datalist = SplitData(input_datalist)\n",
        "    input_datalist = TransformData(input_datalist)\n",
        "    return input_datalist"
      ]
    },
    {
      "cell_type": "markdown",
      "metadata": {},
      "source": [
        "### Implement regression"
      ]
    },
    {
      "cell_type": "code",
      "execution_count": 163,
      "metadata": {},
      "outputs": [],
      "source": [
        "def PHI(input_datalist):\n",
        "    charttime = (input_datalist[:, 0] % 86400) / 3600\n",
        "    phi = input_datalist[:, 1:4]\n",
        "    phi = np.column_stack((charttime, phi))\n",
        "    phi = np.column_stack((np.ones((phi.shape[0], 1)),  phi))\n",
        "\n",
        "    return phi\n",
        "\n",
        "\n",
        "def MatrixInversion(input_datalist):\n",
        "    ws = [] # weights for all patient\n",
        "    for p in input_datalist:\n",
        "        phi = PHI(p)\n",
        "        y = p[:, 5]\n",
        "        ws.append(np.linalg.lstsq(phi, y))\n",
        "    return ws"
      ]
    },
    {
      "cell_type": "markdown",
      "metadata": {},
      "source": [
        "### Evaluate MAPE"
      ]
    },
    {
      "cell_type": "code",
      "execution_count": 164,
      "metadata": {},
      "outputs": [],
      "source": [
        "def EvaluateMAPE(w, validating_datalist):\n",
        "  phi = PHI(validating_datalist)\n",
        "  \n",
        "  sbp = validating_datalist[:, 5]\n",
        "  sbp_p = w.dot(phi.T)\n",
        "\n",
        "  N = len(validating_datalist)\n",
        "  MAPE = sum(abs(sbp-sbp_p)/sbp)/N\n",
        "  return MAPE"
      ]
    },
    {
      "cell_type": "markdown",
      "metadata": {},
      "source": [
        "### Make prediction"
      ]
    },
    {
      "cell_type": "code",
      "execution_count": 165,
      "metadata": {},
      "outputs": [],
      "source": [
        "def MakePrediction(w, input_datalist):\n",
        "    phi = PHI(input_datalist)\n",
        "  \n",
        "    return w.dot(phi.T)"
      ]
    },
    {
      "cell_type": "markdown",
      "metadata": {},
      "source": [
        "### Train model and Generate the Result"
      ]
    },
    {
      "cell_type": "code",
      "execution_count": 166,
      "metadata": {},
      "outputs": [
        {
          "name": "stdout",
          "output_type": "stream",
          "text": [
            "Coefficient for patient  0:  211.6757032030   -0.1744314095   -1.5174354411    0.8676710523    0.7191346409 \n",
            "Coefficient for patient  1:  811.5389096150    0.0527294810   -7.0344603522    0.3481749561   -0.6790824184 \n",
            "Coefficient for patient  2:  458.3758118076    0.0087694446   -3.7563520422    0.0708003227    1.1513768296 \n",
            "Coefficient for patient  3:  517.6377309857    0.2433854214   -3.8237381688   -0.7550781307    2.0925688611 \n",
            "Coefficient for patient  4: -290.2257032780   -0.0572804048    4.1679889897   -0.0386965631    0.6437098553 \n",
            "Coefficient for patient  5: -320.9343833633    0.1357990928    4.3779647566    0.1232331794    0.6996828884 \n",
            "Coefficient for patient  6:  237.9689722087   -0.0694725680   -1.3280146747    0.0209967417    0.5210083852 \n",
            "Coefficient for patient  7: -107.5655724166   -0.2344235009    2.1599710949    0.1423894422    0.6116276170 \n",
            "Coefficient for patient  8: -731.0752065071   -0.0987093684    8.9224077355    0.0168661715   -0.4073514323 \n",
            "Coefficient for patient  9:  148.3208360028   -0.0636031631    0.0105568615   -0.2178940224   -0.2001106369 \n",
            "Coefficient for patient 10:  -66.2066504969    0.2582804679    1.7566443753    0.0742526634    0.6403772378 \n",
            "MAPE for patient  1 = 0.1107924896%\n",
            "MAPE for patient  2 = 0.1166949970%\n",
            "MAPE for patient  3 = 0.1400392380%\n",
            "MAPE for patient  4 = 0.1427426676%\n",
            "MAPE for patient  5 = 0.0925467288%\n",
            "MAPE for patient  6 = 0.1129968290%\n",
            "MAPE for patient  7 = 0.0884768039%\n",
            "MAPE for patient  8 = 0.0956314221%\n",
            "MAPE for patient  9 = 0.1416761925%\n",
            "MAPE for patient 10 = 0.0942440125%\n",
            "MAPE for patient 11 = 0.0957302290%\n",
            "Average MAPE = 0.11196105545451013\n"
          ]
        }
      ],
      "source": [
        "# train\n",
        "patient = PreprocessTrainingData(input_datalist[:])\n",
        "SplitValidation(patient)\n",
        "ws = MatrixInversion(patient)\n",
        "\n",
        "# generate result\n",
        "patient_test = PreprocessTestingData(testing_datalist[:])\n",
        "for i in range(num_patient):\n",
        "  sbp_p = MakePrediction(ws[i], patient_test[i])\n",
        "  temp = np.column_stack((patient_test[i], sbp_p))\n",
        "  output_datalist.append(sbp_p)\n",
        "\n",
        "# print coefficient\n",
        "for i, w in enumerate(ws):\n",
        "    print(f\"Coefficient for patient {i:2}: \", end = '')\n",
        "    for j in w:\n",
        "        print(f\"{j:15.10f} \", end = '')\n",
        "    print()\n",
        "\n",
        "# calculte MAPE of validating dataset\n",
        "MAPE_sum = 0\n",
        "for i in range(num_patient):\n",
        "  MAPE = EvaluateMAPE(ws[i], p_val[i])\n",
        "  MAPE_sum += MAPE\n",
        "  print(f\"MAPE for patient {i+1:2d} = {MAPE:.10f}%\")\n",
        "print(f\"Average MAPE = {MAPE_sum/num_patient}\")"
      ]
    },
    {
      "cell_type": "markdown",
      "metadata": {
        "id": "e0yraCZNwHWw"
      },
      "source": [
        "### Output your Prediction\n",
        "\n",
        "> your filename should be **hw1_advanced.csv**"
      ]
    },
    {
      "cell_type": "code",
      "execution_count": 167,
      "metadata": {
        "id": "J7MgKY_XwHWx"
      },
      "outputs": [],
      "source": [
        "with open(output_dataroot, 'w', newline='', encoding=\"utf-8\") as csvfile:\n",
        "  writer = csv.writer(csvfile)\n",
        "  for row in output_datalist:\n",
        "    for r in row:\n",
        "      writer.writerow([r])"
      ]
    },
    {
      "cell_type": "markdown",
      "metadata": {
        "id": "EtgCJU7FPeJL"
      },
      "source": [
        "# Report *(5%)*\n",
        "\n",
        "Report should be submitted as a pdf file **hw1_report.pdf**\n",
        "\n",
        "*   Briefly describe the difficulty you encountered\n",
        "*   Summarize your work and your reflections\n",
        "*   No more than one page\n",
        "\n",
        "\n",
        "\n",
        "\n"
      ]
    },
    {
      "cell_type": "markdown",
      "metadata": {
        "id": "hlEE53_MPf4W"
      },
      "source": [
        "# Save the Code File\n",
        "Please save your code and submit it as an ipynb file! (**hw1.ipynb**)"
      ]
    }
  ],
  "metadata": {
    "colab": {
      "provenance": []
    },
    "kernelspec": {
      "display_name": "Python 3",
      "name": "python3"
    },
    "language_info": {
      "codemirror_mode": {
        "name": "ipython",
        "version": 3
      },
      "file_extension": ".py",
      "mimetype": "text/x-python",
      "name": "python",
      "nbconvert_exporter": "python",
      "pygments_lexer": "ipython3",
      "version": "3.10.6"
    }
  },
  "nbformat": 4,
  "nbformat_minor": 0
}
