{
  "cells": [
    {
      "cell_type": "code",
      "execution_count": 546,
      "metadata": {
        "colab": {
          "base_uri": "https://localhost:8080/"
        },
        "id": "-NzLuYS6pwUv",
        "outputId": "c691e894-4140-4e3f-8ed1-4d81aef48adc"
      },
      "outputs": [],
      "source": [
        "# from google.colab import drive\n",
        "# drive.mount('/content/drive')"
      ]
    },
    {
      "cell_type": "markdown",
      "metadata": {
        "id": "7gCDMiNJVDAS"
      },
      "source": [
        "# **HW 2: Classification**\n",
        "In *homework 2*, you need to finish:\n",
        "\n",
        "1.  Basic Part:\n",
        "\n",
        "> *   Step 1: Load the input Data\n",
        "> *   Step 2: Implement Naive Bayesian classifier\n",
        "> *   Step 3: Build the classifier and check the correctness of Table building\n",
        "> *   Step 4: Split Data\n",
        "> *   Step 5: Make prediction and perform evaluation\n",
        "> *   Step 6: Generate results\n",
        "\n",
        "2.  Advanced Part:\n",
        "\n",
        "> *   Step 1: Load the input Data\n",
        "> *   Step 2: Implement Gaussian Naive Bayesian classifier\n",
        "> *   Step 3: Build the classifier and check the correctness of Table building\n",
        "> *   Step 4 Improve the classifier for Ranking\n",
        "> *   Step 5: Make prediction and perform evaluation\n",
        "> *   Step 6: Generate results"
      ]
    },
    {
      "cell_type": "markdown",
      "metadata": {
        "id": "7iSLeN98WAGM"
      },
      "source": [
        "# **1. Basic Part (55%)**\n",
        "In the first part, you need to implement the Naive Bayesian classifier:\n",
        "- input features: ***9 physiological features***\n",
        "- output prediction: ***hospital_death***"
      ]
    },
    {
      "cell_type": "markdown",
      "metadata": {
        "id": "FLGnqdEnXT20"
      },
      "source": [
        "## *Import Packages*\n",
        "\n",
        "> Note: You **cannot** import any other package"
      ]
    },
    {
      "cell_type": "code",
      "execution_count": 547,
      "metadata": {
        "id": "ROPDPsjdXpSf"
      },
      "outputs": [],
      "source": [
        "import numpy as np\n",
        "import pandas as pd\n",
        "import csv\n",
        "import math\n",
        "import random\n",
        "import pickle"
      ]
    },
    {
      "cell_type": "markdown",
      "metadata": {
        "id": "yLeI_t2PAEPe"
      },
      "source": [
        "## Global attributes\n",
        "> You can add your own global attributes here\n"
      ]
    },
    {
      "cell_type": "code",
      "execution_count": null,
      "metadata": {
        "id": "bBWtZJPLAIdJ"
      },
      "outputs": [],
      "source": []
    },
    {
      "cell_type": "markdown",
      "metadata": {
        "id": "UjMH9mAIXnAU"
      },
      "source": [
        "## Step 1: Load the input Data\n",
        "Load the input file **hw2_basic_training.csv**\n",
        "\n",
        "> Note: please don't change the input var name ***training_df, testing_df, X, and y***."
      ]
    },
    {
      "cell_type": "code",
      "execution_count": 548,
      "metadata": {
        "id": "yDh8Ah9RY3z0"
      },
      "outputs": [],
      "source": [
        "# TODO: modify your file path\n",
        "training_df = pd.read_csv('hw2_basic_training.csv')\n",
        "testing_df = pd.read_csv('hw2_basic_testing.csv')\n",
        "y = training_df['hospital_death']\n",
        "X = training_df.drop('hospital_death', axis=1)"
      ]
    },
    {
      "cell_type": "markdown",
      "metadata": {
        "id": "Sr06keeMWKKu"
      },
      "source": [
        "you can take a look at the input feature & ground truth format:"
      ]
    },
    {
      "cell_type": "code",
      "execution_count": 549,
      "metadata": {
        "id": "V0pbarO8ja0F"
      },
      "outputs": [
        {
          "data": {
            "text/html": [
              "<div>\n",
              "<style scoped>\n",
              "    .dataframe tbody tr th:only-of-type {\n",
              "        vertical-align: middle;\n",
              "    }\n",
              "\n",
              "    .dataframe tbody tr th {\n",
              "        vertical-align: top;\n",
              "    }\n",
              "\n",
              "    .dataframe thead th {\n",
              "        text-align: right;\n",
              "    }\n",
              "</style>\n",
              "<table border=\"1\" class=\"dataframe\">\n",
              "  <thead>\n",
              "    <tr style=\"text-align: right;\">\n",
              "      <th></th>\n",
              "      <th>ventilated_apache</th>\n",
              "      <th>gcs_eyes_apache</th>\n",
              "      <th>gcs_motor_apache</th>\n",
              "      <th>gcs_verbal_apache</th>\n",
              "      <th>albumin_apache</th>\n",
              "      <th>bilirubin_apache</th>\n",
              "      <th>bun_apache</th>\n",
              "      <th>creatinine_apache</th>\n",
              "      <th>fio2_apache</th>\n",
              "    </tr>\n",
              "  </thead>\n",
              "  <tbody>\n",
              "    <tr>\n",
              "      <th>0</th>\n",
              "      <td>1</td>\n",
              "      <td>4</td>\n",
              "      <td>6</td>\n",
              "      <td>1</td>\n",
              "      <td>0</td>\n",
              "      <td>0</td>\n",
              "      <td>1</td>\n",
              "      <td>1</td>\n",
              "      <td>1</td>\n",
              "    </tr>\n",
              "    <tr>\n",
              "      <th>1</th>\n",
              "      <td>0</td>\n",
              "      <td>4</td>\n",
              "      <td>6</td>\n",
              "      <td>4</td>\n",
              "      <td>1</td>\n",
              "      <td>1</td>\n",
              "      <td>1</td>\n",
              "      <td>1</td>\n",
              "      <td>0</td>\n",
              "    </tr>\n",
              "    <tr>\n",
              "      <th>2</th>\n",
              "      <td>0</td>\n",
              "      <td>4</td>\n",
              "      <td>6</td>\n",
              "      <td>5</td>\n",
              "      <td>0</td>\n",
              "      <td>0</td>\n",
              "      <td>0</td>\n",
              "      <td>0</td>\n",
              "      <td>0</td>\n",
              "    </tr>\n",
              "    <tr>\n",
              "      <th>3</th>\n",
              "      <td>0</td>\n",
              "      <td>3</td>\n",
              "      <td>6</td>\n",
              "      <td>4</td>\n",
              "      <td>0</td>\n",
              "      <td>0</td>\n",
              "      <td>1</td>\n",
              "      <td>1</td>\n",
              "      <td>0</td>\n",
              "    </tr>\n",
              "    <tr>\n",
              "      <th>4</th>\n",
              "      <td>1</td>\n",
              "      <td>3</td>\n",
              "      <td>3</td>\n",
              "      <td>1</td>\n",
              "      <td>0</td>\n",
              "      <td>0</td>\n",
              "      <td>1</td>\n",
              "      <td>1</td>\n",
              "      <td>1</td>\n",
              "    </tr>\n",
              "    <tr>\n",
              "      <th>5</th>\n",
              "      <td>0</td>\n",
              "      <td>4</td>\n",
              "      <td>6</td>\n",
              "      <td>5</td>\n",
              "      <td>0</td>\n",
              "      <td>0</td>\n",
              "      <td>0</td>\n",
              "      <td>0</td>\n",
              "      <td>0</td>\n",
              "    </tr>\n",
              "    <tr>\n",
              "      <th>6</th>\n",
              "      <td>1</td>\n",
              "      <td>4</td>\n",
              "      <td>6</td>\n",
              "      <td>5</td>\n",
              "      <td>0</td>\n",
              "      <td>0</td>\n",
              "      <td>1</td>\n",
              "      <td>1</td>\n",
              "      <td>1</td>\n",
              "    </tr>\n",
              "    <tr>\n",
              "      <th>7</th>\n",
              "      <td>0</td>\n",
              "      <td>4</td>\n",
              "      <td>6</td>\n",
              "      <td>5</td>\n",
              "      <td>1</td>\n",
              "      <td>1</td>\n",
              "      <td>1</td>\n",
              "      <td>1</td>\n",
              "      <td>0</td>\n",
              "    </tr>\n",
              "    <tr>\n",
              "      <th>8</th>\n",
              "      <td>1</td>\n",
              "      <td>4</td>\n",
              "      <td>6</td>\n",
              "      <td>5</td>\n",
              "      <td>0</td>\n",
              "      <td>0</td>\n",
              "      <td>0</td>\n",
              "      <td>0</td>\n",
              "      <td>0</td>\n",
              "    </tr>\n",
              "    <tr>\n",
              "      <th>9</th>\n",
              "      <td>0</td>\n",
              "      <td>4</td>\n",
              "      <td>6</td>\n",
              "      <td>5</td>\n",
              "      <td>1</td>\n",
              "      <td>1</td>\n",
              "      <td>1</td>\n",
              "      <td>1</td>\n",
              "      <td>0</td>\n",
              "    </tr>\n",
              "  </tbody>\n",
              "</table>\n",
              "</div>"
            ],
            "text/plain": [
              "   ventilated_apache  gcs_eyes_apache  gcs_motor_apache  gcs_verbal_apache  \\\n",
              "0                  1                4                 6                  1   \n",
              "1                  0                4                 6                  4   \n",
              "2                  0                4                 6                  5   \n",
              "3                  0                3                 6                  4   \n",
              "4                  1                3                 3                  1   \n",
              "5                  0                4                 6                  5   \n",
              "6                  1                4                 6                  5   \n",
              "7                  0                4                 6                  5   \n",
              "8                  1                4                 6                  5   \n",
              "9                  0                4                 6                  5   \n",
              "\n",
              "   albumin_apache  bilirubin_apache  bun_apache  creatinine_apache  \\\n",
              "0               0                 0           1                  1   \n",
              "1               1                 1           1                  1   \n",
              "2               0                 0           0                  0   \n",
              "3               0                 0           1                  1   \n",
              "4               0                 0           1                  1   \n",
              "5               0                 0           0                  0   \n",
              "6               0                 0           1                  1   \n",
              "7               1                 1           1                  1   \n",
              "8               0                 0           0                  0   \n",
              "9               1                 1           1                  1   \n",
              "\n",
              "   fio2_apache  \n",
              "0            1  \n",
              "1            0  \n",
              "2            0  \n",
              "3            0  \n",
              "4            1  \n",
              "5            0  \n",
              "6            1  \n",
              "7            0  \n",
              "8            0  \n",
              "9            0  "
            ]
          },
          "execution_count": 549,
          "metadata": {},
          "output_type": "execute_result"
        }
      ],
      "source": [
        "X[:10]"
      ]
    },
    {
      "cell_type": "code",
      "execution_count": 550,
      "metadata": {
        "id": "LxvHkm1XjbUh"
      },
      "outputs": [
        {
          "data": {
            "text/plain": [
              "0    0\n",
              "1    0\n",
              "2    0\n",
              "3    0\n",
              "4    0\n",
              "5    0\n",
              "6    0\n",
              "7    0\n",
              "8    0\n",
              "9    0\n",
              "Name: hospital_death, dtype: int64"
            ]
          },
          "execution_count": 550,
          "metadata": {},
          "output_type": "execute_result"
        }
      ],
      "source": [
        "y[:10]"
      ]
    },
    {
      "cell_type": "markdown",
      "metadata": {
        "id": "WSuKwSE0ohxt"
      },
      "source": [
        "## Step 2: Implement Naive Bayesian classifier\n",
        "In this part, you need to implement the Naive Bayesian classifier. Since the data is categorical, you can refer to the L3-Bayesian Classifier course slides, p.12~16. The Bayes' theorem is as follows:\n",
        "\n",
        "$$P(C|X) = \\frac{P(X|C) \\cdot P(C)}{P(X)}$$\n",
        "\n",
        "We know that taking the logarithm of a series of multiplications can be transformed into a series of additions, making it easier to calculate. So, we can formulate it as follows by taking the logarithm of both sides:\n",
        "\n",
        "$$\\log(P(C|X)) = \\log(P(X|C)) + \\log(P(C)) - \\log(P(X))$$\n",
        "\n",
        "The term $\\log(P(X))$ is a normalization constant that ensures the probabilities sum to 1 across all classes and is the same for all classes. Since it's constant during prediction for all classes, it doesn't affect class comparison. Therefore, in practice, you don't need to compute or include $\\log(P(X))$ explicitly when comparing classes. Instead, you can focus on the relative values of the posterior probabilities.\n",
        "\n",
        "So the **final equation** for implementation will be:\n",
        "$$\\log(P(C|X)) = \\log(P(X|C)) + \\log(P(C))$$\n",
        "\n",
        "However, this equation may still encounter issues if the likelihood $P(X|C)$ equals 0, leading to an undefined $\\log(P(X|C))$. To handle this exception, a simple way to avoid the issue is to assume the addition of one new record to the table to calculate the likelihood:\n",
        "\n",
        "_likelihood = 1 / (len(self.feature_probs_table[c][feature]) + 1)\n"
      ]
    },
    {
      "cell_type": "code",
      "execution_count": 551,
      "metadata": {
        "id": "iRb5mruK9w-p"
      },
      "outputs": [],
      "source": [
        "class NaiveBayes:\n",
        "    def build_table(self, X, y):\n",
        "        # classes for ground truth: there are only negative(0) and positive(1) for y (hospital_death)\n",
        "        self.classes = np.unique(y)\n",
        "        # record prior for two classes\n",
        "        self.class_priors = {}\n",
        "        # **feature_probs_table** is a 3D dictionary table:\n",
        "        # structure: [class]    [feature]           [value] = probs\n",
        "        # example:   [0]        ['gcs_eyes_apache'] [3]     = # of (hospital_death=0 && gcs_eyes_apache=3) / # of (hospital_death=0)\n",
        "        # for more usage of python dict, you can refer to the link: https://www.w3schools.com/python/python_dictionaries.asp\n",
        "        self.feature_probs_table = {}\n",
        "\n",
        "        # consider negative(0) and positive(1) separately\n",
        "        \n",
        "        for c in self.classes:\n",
        "            X_c = X[y == c]\n",
        "            self.class_priors[c] = len(X_c) / len(X) # TODO: calculate the prior\n",
        "            self.feature_probs_table[c] = {}\n",
        "\n",
        "            for feature in X.columns:\n",
        "                self.feature_probs_table[c][feature] = {}\n",
        "                for value in np.unique(X_c[feature]):\n",
        "                    value_count = np.sum((X_c[feature] == value) & (y[y == c] == c)) # TODO: Calculate the count of data points with the current feature value and the current class\n",
        "                    total_count = np.sum(y == c) # TODO: Calculate the total count of data points with the current feature within the current class\n",
        "                    self.feature_probs_table[c][feature][value] = value_count / total_count # TODO: Calculate and store the conditional probability of the feature value given the class\n",
        "\n",
        "    def predict(self, X):\n",
        "        predictions = [self._predict(x) for x in X.to_dict(orient='records')]\n",
        "        return predictions\n",
        "\n",
        "    def _predict(self, x):\n",
        "        log_posteriors = []\n",
        "\n",
        "        # this for loop implement: log(posteior) = log(prior) + log(likelihood)\n",
        "        for c in self.classes:\n",
        "            log_prior = np.log(self.class_priors[c])\n",
        "            log_likelihood = 0\n",
        "            for feature, value in x.items():\n",
        "                if value in self.feature_probs_table[c][feature]:\n",
        "                    # you can look up the table for the likelihood\n",
        "                    _likelihood = self.feature_probs_table[c][feature][value] # TODO: calculate likelihood by the self.feature_probs_table\n",
        "                else:\n",
        "                    # to fix issue of some cases not appear in the table\n",
        "                    _likelihood = 1 / (len(self.feature_probs_table[c][feature]) + 1)\n",
        "                log_likelihood += np.log(_likelihood)\n",
        "            log_posterior = log_prior + log_likelihood\n",
        "            log_posteriors.append((c, log_posterior))\n",
        "        return max(log_posteriors, key=lambda x: x[1])[0] # TODO: Return the class with the highest logarithm of posterior probability as the predicted class\n"
      ]
    },
    {
      "cell_type": "markdown",
      "metadata": {
        "id": "5m_uQfkmTgyC"
      },
      "source": [
        "## Step 3: Build the classifier and check the correctness of Table building\n",
        "You can easily build an instance of your classifier and then create the table.\n",
        "\n",
        "To check whether you have correctly built the table of the Naive Bayesian classifier, there is an example for you to ensure that your implementation is correct.\n"
      ]
    },
    {
      "cell_type": "code",
      "execution_count": 552,
      "metadata": {
        "id": "sc1CTjeYTfp0"
      },
      "outputs": [],
      "source": [
        "# Create and build the dictionary table for Naive Bayes classifier\n",
        "nb_classifier = NaiveBayes()\n",
        "nb_classifier.build_table(X, y)"
      ]
    },
    {
      "cell_type": "markdown",
      "metadata": {
        "id": "K-f_QvJKZegX"
      },
      "source": [
        "And you also need to output the dictionary variable ***feature_probs_table*** as a pickle file, which will be examined for correctness.\n",
        "> Note: Since this is for checking the implementation of the build_table method, please ensure that the input for your table building, ***X and y,*** is taken from the provided hw2_basic_training.csv file ***BEFORE*** splitting the dataset into training and validation sets.\n",
        "\n",
        "> Hint: Two values for you to check the implementation correctness:\n",
        "\n",
        "> `nb_classifier.feature_probs_table[0]['gcs_eyes_apache'][3]` is\n",
        "0.15299\n",
        "\n",
        "> `nb_classifier.feature_probs_table[1]['gcs_eyes_apache'][3]` is\n",
        "0.15896"
      ]
    },
    {
      "cell_type": "code",
      "execution_count": 553,
      "metadata": {
        "colab": {
          "base_uri": "https://localhost:8080/"
        },
        "id": "lX4vtks6qVaK",
        "outputId": "07815d9d-fe0a-4041-9a07-debf4ceb1171"
      },
      "outputs": [
        {
          "name": "stdout",
          "output_type": "stream",
          "text": [
            "pass\n"
          ]
        }
      ],
      "source": [
        "if round(nb_classifier.feature_probs_table[0]['gcs_eyes_apache'][3], 5) == 0.15299 and \\\n",
        "   round(nb_classifier.feature_probs_table[1]['gcs_eyes_apache'][3], 5) == 0.15896:\n",
        "    print('pass')\n",
        "else:\n",
        "    print('fail')"
      ]
    },
    {
      "cell_type": "code",
      "execution_count": 554,
      "metadata": {
        "id": "2Uia7kWBagdE"
      },
      "outputs": [],
      "source": [
        "# TODO: change your path to save the pickle file\n",
        "pickle_file_path = 'hw2_basic_table'\n",
        "with open(pickle_file_path, 'wb') as table_file:\n",
        "    pickle.dump(nb_classifier.feature_probs_table, table_file)\n",
        "    table_file.close()"
      ]
    },
    {
      "cell_type": "markdown",
      "metadata": {
        "id": "eI3rKUuzZUb4"
      },
      "source": [
        "## Step 4: Split Data\n",
        "Split the data in *X, and y* into the training dataset and validation dataset.\n",
        "> Note: You can use what you have implemented in hw1.\n",
        "\n",
        "Since many students may not understand the meaning of a validation set, let's provide more explanation:\n",
        "\n",
        "The purpose of a validation set is to determine whether our model is overfitting the training data.\n",
        "- Underfitting: If the performance on the training set is poor (e.g., you haven't prepared enough for exam 1).\n",
        "- Overfitting: If the performance on the training set is high, but the performance on the validation set is poor. (e.g., if you've focused solely on practicing with \"past exam papers\" (考古題) for exam 1, you might answer those questions correctly but struggle with new, unfamiliar questions during the actual exam).\n",
        "\n",
        "If we achieve good performance on both the training set and the validation set, it indicates that the model has not only learned from the training data but also has the ability to make accurate inferences on unseen data.\n",
        "\n",
        "![](https://hackmd.io/_uploads/SJLptEZWT.png)"
      ]
    },
    {
      "cell_type": "markdown",
      "metadata": {
        "id": "l5G-VlT4VkYY"
      },
      "source": [
        "Please split the dataset into training set and validation set\n",
        "\n",
        "> Note: The purpose of ***random_state*** is to ensure that you can reproduce the results each time you split your dataset. This is often helpful for debugging.\n"
      ]
    },
    {
      "cell_type": "code",
      "execution_count": 555,
      "metadata": {
        "id": "YuY2DkQAXJh3"
      },
      "outputs": [],
      "source": [
        "def train_val_split(X, y, split_ratio = 0.8, random_state = 16):\n",
        "    ... # TODO: implement your own train_val_split\n",
        "    num_samples = len(X)\n",
        "\n",
        "    random_state_ = np.random.RandomState(random_state)\n",
        "    indices = np.arange(num_samples)\n",
        "    random_state_.shuffle(indices)\n",
        "\n",
        "    split_index = int(num_samples * split_ratio)\n",
        "    train_indices = indices[:split_index]\n",
        "    val_indices = indices[split_index:]\n",
        "\n",
        "    train_indices.sort()\n",
        "    val_indices.sort()\n",
        "    X_train, X_val = X.iloc[train_indices], X.iloc[val_indices]\n",
        "\n",
        "    num_samples = len(y)\n",
        "\n",
        "    random_state = np.random.RandomState(random_state)\n",
        "    indices = np.arange(num_samples)\n",
        "    random_state.shuffle(indices)\n",
        "\n",
        "    split_index = int(num_samples * split_ratio)\n",
        "    train_indices = indices[:split_index]\n",
        "    val_indices = indices[split_index:]\n",
        "\n",
        "    train_indices.sort()\n",
        "    val_indices.sort()\n",
        "    y_train, y_val = y.iloc[train_indices], y.iloc[val_indices]\n",
        "    return X_train, X_val, y_train, y_val"
      ]
    },
    {
      "cell_type": "code",
      "execution_count": 556,
      "metadata": {
        "id": "wonY4SJdVjhF"
      },
      "outputs": [
        {
          "name": "stdout",
          "output_type": "stream",
          "text": [
            "80000 80000\n",
            "64000 16000 64000 16000\n"
          ]
        }
      ],
      "source": [
        "# TODO: Split the data into training and validation sets\n",
        "# Note: please follow template for the format of return variables\n",
        "print(len(X), len(y))\n",
        "X_train, X_val, y_train, y_val = train_val_split(X, y) # TODO\n",
        "print(len(X_train), len(X_val), len(y_train), len(y_val))"
      ]
    },
    {
      "cell_type": "markdown",
      "metadata": {
        "id": "y3BwyXwu0dOq"
      },
      "source": [
        "## Step 5: Make predictions and perform evaluation\n",
        "The method we will evaluate the performance of the Bayesian classifier is ***F1-socre***:\n",
        "\n",
        "$$\\text{precision} = \\frac{\\text{True Positives}}{\\text{True Positives} + \\text{False Positives}}$$\n",
        "\n",
        "$$\\text{Recall} = \\frac{\\text{True Positives}}{\\text{True Positives} + \\text{False Negatives}}$$\n",
        "\n",
        "$$F1\\text{-}score = \\frac{2 \\cdot \\text{precision} \\cdot \\text{recall}}{\\text{precision} + \\text{recall}}$$\n",
        "\n",
        "![](https://hackmd.io/_uploads/B1tfT9UWp.png)\n",
        "\n",
        "Since the number of ground truth ***hospital_death*** where the outcome is positive is much less than the number of negative outcomes, we should focus on the f1-score of the positive class.\n",
        "\n",
        "You need to implement the f1-score function to evaluate the performance of the Naive Bayesian classifier.\n",
        "\n",
        "> Note: You should test your classifier by evaluating it on the training set and the validation set.\n"
      ]
    },
    {
      "cell_type": "code",
      "execution_count": null,
      "metadata": {},
      "outputs": [],
      "source": []
    },
    {
      "cell_type": "code",
      "execution_count": 643,
      "metadata": {
        "id": "QLs0Y-veokCe"
      },
      "outputs": [],
      "source": [
        "def cal_f1_score(y_true, y_pred):\n",
        "    # Calculate True Positives, False Positives, False Negatives\n",
        "    tp = sum(1 for true, pred in zip(y_true, y_pred) if true == 1 and pred == 1)\n",
        "    fp = sum(1 for true, pred in zip(y_true, y_pred) if true == 0 and pred == 1) # TODO: calculate the false positive\n",
        "    fn = sum(1 for true, pred in zip(y_true, y_pred) if true == 1 and pred == 0) # TODO: calculate the false negative\n",
        "    # Calculate precision and recall\n",
        "    precision = tp / (tp + fp) if (tp + fp) > 0 else 0 # TDOO: calculate the precision\n",
        "    recall = tp / (tp + fn) if (tp + fn) > 0 else 0 # TODO: calculate the recall\n",
        "\n",
        "    # Calculate F1-score\n",
        "    f1_score = 2 * (precision * recall) / (precision + recall) if (precision + recall) > 0 else 0 # TODO: calculate the f1-score\n",
        "\n",
        "    return f1_score\n",
        "def cal_precision(y_true, y_pred):\n",
        "    tp = sum(1 for true, pred in zip(y_true, y_pred) if true == 1 and pred == 1)\n",
        "    fp = sum(1 for true, pred in zip(y_true, y_pred) if true == 0 and pred == 1) # TODO: calculate the false positive\n",
        "    precision = tp / (tp + fp) if (tp + fp) > 0 else 0 # TDOO: calculate the precision\n",
        "    return precision\n",
        "def cal_recall(y_true, y_pred):\n",
        "    tp = sum(1 for true, pred in zip(y_true, y_pred) if true == 1 and pred == 1)\n",
        "    fn = sum(1 for true, pred in zip(y_true, y_pred) if true == 1 and pred == 0) # TODO: calculate the false negative\n",
        "    recall = tp / (tp + fn) if (tp + fn) > 0 else 0 # TODO: calculate the recall\n",
        "    return recall\n",
        "def cal_FPR(y_true, y_pred):\n",
        "    fp = sum(1 for true, pred in zip(y_true, y_pred) if true == 0 and pred == 1) # TODO: calculate the false positive\n",
        "    tn = sum(1 for true, pred in zip(y_true, y_pred) if true == 0 and pred == 0)\n",
        "    return fp/(fp+tn) if fp+tn > 0 else 0"
      ]
    },
    {
      "cell_type": "code",
      "execution_count": 558,
      "metadata": {
        "id": "nRtCpU6YtsBK"
      },
      "outputs": [
        {
          "name": "stdout",
          "output_type": "stream",
          "text": [
            "Training F1-Score: 0.3271651647520121\n",
            "Validation F1-Score: 0.320364904749128\n"
          ]
        }
      ],
      "source": [
        "# TODO: Build table on the training set\n",
        "nb_classifier = NaiveBayes()\n",
        "nb_classifier.build_table(X_train, y_train)\n",
        "\n",
        "# TODO: Make predictions on the training set and calculate the f1-score\n",
        "train_predictions = nb_classifier.predict(X_train)\n",
        "train_f1_score = cal_f1_score(y_train, train_predictions)\n",
        "\n",
        "# TODO: Make predictions on the validation set and calculate the f1-score\n",
        "val_predictions = nb_classifier.predict(X_val)\n",
        "val_f1_score = cal_f1_score(y_val, val_predictions)\n",
        "\n",
        "# Print the F1-scores\n",
        "print(f\"Training F1-Score: {train_f1_score}\")\n",
        "print(f\"Validation F1-Score: {val_f1_score}\")"
      ]
    },
    {
      "cell_type": "markdown",
      "metadata": {
        "id": "RgH6lNeJ_IBY"
      },
      "source": [
        "## Step 6: Generate result\n",
        "> Note: Please follow the format mension in the slides, the can only change the path for saving your code down below."
      ]
    },
    {
      "cell_type": "code",
      "execution_count": 559,
      "metadata": {
        "id": "qbeO-EFC_I4K"
      },
      "outputs": [],
      "source": [
        "predictions = nb_classifier.predict(testing_df) # TODO: predict on the testing_df\n",
        "\n",
        "# TODO: Specify the CSV file path\n",
        "csv_file_path = 'hw2_basic_prediction.csv'\n",
        "\n",
        "# Write the predictions to the CSV file\n",
        "with open(csv_file_path, 'w', newline='') as csv_file:\n",
        "    writer = csv.writer(csv_file)\n",
        "    writer.writerow(['hospital_death'])\n",
        "    for prediction in predictions:\n",
        "        writer.writerow([prediction])"
      ]
    },
    {
      "cell_type": "markdown",
      "metadata": {
        "id": "4_yxRh0tyyHR"
      },
      "source": [
        "# **1. Advanced Part (40%)**\n",
        "In advanced part, you need to implement the Gaussian Bayesian classifier:\n",
        "- input features: ***3 physiological features***\n",
        "- output prediction: ***diabetes_mellitus***"
      ]
    },
    {
      "cell_type": "markdown",
      "metadata": {
        "id": "lIXO1GcSAUtG"
      },
      "source": [
        "## Global attributes\n",
        "> You can add your own global attributes here\n"
      ]
    },
    {
      "cell_type": "code",
      "execution_count": null,
      "metadata": {
        "id": "xBrJu6pEAUQQ"
      },
      "outputs": [],
      "source": []
    },
    {
      "cell_type": "markdown",
      "metadata": {
        "id": "eDZpQtgTzBAz"
      },
      "source": [
        "## Step 1: Load the input Data\n",
        "Load the input file **hw2_advanced_training.csv**\n",
        "> Note: please don't change the input var name ***training_df, testing_df, X, and y***."
      ]
    },
    {
      "cell_type": "code",
      "execution_count": 560,
      "metadata": {
        "id": "EICIDlzJy7NB"
      },
      "outputs": [],
      "source": [
        "# TODO: modify your file path\n",
        "training_df = pd.read_csv('hw2_advanced_training.csv')\n",
        "testing_df = pd.read_csv('hw2_advanced_testing.csv')\n",
        "y = training_df['diabetes_mellitus']\n",
        "X = training_df.drop('diabetes_mellitus', axis=1)"
      ]
    },
    {
      "cell_type": "code",
      "execution_count": 561,
      "metadata": {
        "id": "wpwc5bwyDo_6"
      },
      "outputs": [
        {
          "data": {
            "text/html": [
              "<div>\n",
              "<style scoped>\n",
              "    .dataframe tbody tr th:only-of-type {\n",
              "        vertical-align: middle;\n",
              "    }\n",
              "\n",
              "    .dataframe tbody tr th {\n",
              "        vertical-align: top;\n",
              "    }\n",
              "\n",
              "    .dataframe thead th {\n",
              "        text-align: right;\n",
              "    }\n",
              "</style>\n",
              "<table border=\"1\" class=\"dataframe\">\n",
              "  <thead>\n",
              "    <tr style=\"text-align: right;\">\n",
              "      <th></th>\n",
              "      <th>age</th>\n",
              "      <th>bmi</th>\n",
              "      <th>glucose_apache</th>\n",
              "    </tr>\n",
              "  </thead>\n",
              "  <tbody>\n",
              "    <tr>\n",
              "      <th>0</th>\n",
              "      <td>64</td>\n",
              "      <td>40.808081</td>\n",
              "      <td>358.0</td>\n",
              "    </tr>\n",
              "    <tr>\n",
              "      <th>1</th>\n",
              "      <td>82</td>\n",
              "      <td>22.782294</td>\n",
              "      <td>183.0</td>\n",
              "    </tr>\n",
              "    <tr>\n",
              "      <th>2</th>\n",
              "      <td>54</td>\n",
              "      <td>19.651056</td>\n",
              "      <td>84.0</td>\n",
              "    </tr>\n",
              "    <tr>\n",
              "      <th>3</th>\n",
              "      <td>18</td>\n",
              "      <td>29.722807</td>\n",
              "      <td>89.0</td>\n",
              "    </tr>\n",
              "    <tr>\n",
              "      <th>4</th>\n",
              "      <td>46</td>\n",
              "      <td>24.404819</td>\n",
              "      <td>569.0</td>\n",
              "    </tr>\n",
              "    <tr>\n",
              "      <th>5</th>\n",
              "      <td>73</td>\n",
              "      <td>16.366843</td>\n",
              "      <td>267.0</td>\n",
              "    </tr>\n",
              "    <tr>\n",
              "      <th>6</th>\n",
              "      <td>63</td>\n",
              "      <td>26.386867</td>\n",
              "      <td>236.0</td>\n",
              "    </tr>\n",
              "    <tr>\n",
              "      <th>7</th>\n",
              "      <td>40</td>\n",
              "      <td>23.765104</td>\n",
              "      <td>89.0</td>\n",
              "    </tr>\n",
              "    <tr>\n",
              "      <th>8</th>\n",
              "      <td>58</td>\n",
              "      <td>47.528345</td>\n",
              "      <td>89.0</td>\n",
              "    </tr>\n",
              "    <tr>\n",
              "      <th>9</th>\n",
              "      <td>76</td>\n",
              "      <td>39.147070</td>\n",
              "      <td>193.0</td>\n",
              "    </tr>\n",
              "  </tbody>\n",
              "</table>\n",
              "</div>"
            ],
            "text/plain": [
              "   age        bmi  glucose_apache\n",
              "0   64  40.808081           358.0\n",
              "1   82  22.782294           183.0\n",
              "2   54  19.651056            84.0\n",
              "3   18  29.722807            89.0\n",
              "4   46  24.404819           569.0\n",
              "5   73  16.366843           267.0\n",
              "6   63  26.386867           236.0\n",
              "7   40  23.765104            89.0\n",
              "8   58  47.528345            89.0\n",
              "9   76  39.147070           193.0"
            ]
          },
          "execution_count": 561,
          "metadata": {},
          "output_type": "execute_result"
        }
      ],
      "source": [
        "X[:10]"
      ]
    },
    {
      "cell_type": "code",
      "execution_count": 562,
      "metadata": {
        "id": "KQG0xcKaDtDy"
      },
      "outputs": [
        {
          "data": {
            "text/plain": [
              "0    1\n",
              "1    0\n",
              "2    0\n",
              "3    0\n",
              "4    1\n",
              "5    1\n",
              "6    1\n",
              "7    1\n",
              "8    0\n",
              "9    1\n",
              "Name: diabetes_mellitus, dtype: int64"
            ]
          },
          "execution_count": 562,
          "metadata": {},
          "output_type": "execute_result"
        }
      ],
      "source": [
        "y[:10]"
      ]
    },
    {
      "cell_type": "markdown",
      "metadata": {
        "id": "oTzwktNcQ0gV"
      },
      "source": [
        "you can check whether the standardization works"
      ]
    },
    {
      "cell_type": "code",
      "execution_count": 563,
      "metadata": {},
      "outputs": [
        {
          "name": "stdout",
          "output_type": "stream",
          "text": [
            "            age       bmi  glucose_apache\n",
            "0      0.082951  1.357039        2.152864\n",
            "1      1.174317 -0.797281        0.238945\n",
            "2     -0.523363 -1.171506       -0.843787\n",
            "3     -2.706095  0.032202       -0.789103\n",
            "4     -1.008415 -0.603368        4.460505\n",
            "...         ...       ...             ...\n",
            "64995  1.234949 -0.261179       -0.625053\n",
            "64996  0.628634 -0.398056        0.085831\n",
            "64997  0.022320 -0.650290       -0.843787\n",
            "64998 -1.554097  1.782853       -0.340699\n",
            "64999  1.053054 -1.531100       -0.657863\n",
            "\n",
            "[65000 rows x 3 columns]\n"
          ]
        }
      ],
      "source": [
        "mean = X.mean()\n",
        "std = X.std()\n",
        "\n",
        "# Standardize each column\n",
        "X = (X - mean) / std\n",
        "print(X)"
      ]
    },
    {
      "cell_type": "markdown",
      "metadata": {
        "id": "oKKgJmzVzhy_"
      },
      "source": [
        "## Step 2: Implement Gaussian Naive Bayesian classifier\n",
        "In this part, you need to implement the Gaussian Naive Bayesian classifier.\n",
        "\n",
        "The main difference between Naive Bayesian and Gaussian Naive Bayesian is the likelihood part. For Gaussian NB, we can use the probability density function (PDF) of the ***Gaussian distribution*** (also known as the Normal distribution):\n",
        "\n",
        "$$f(x) = \\frac{1}{\\sqrt{2\\pi\\sigma^2}} exp({-\\frac{(x - \\mu)^2}{2\\sigma^2}})$$\n",
        "\n",
        "The reason we need to use Gaussian is that when the data type is continuous numbers instead of discrete numbers, we can't build a table by just counting all the possible cases. However, we can assume the data distribution follows a Gaussian (or Normal) distribution by calculating its mean and variance. Then, we can approximate the values, even if some records don't appear in the training set.\n"
      ]
    },
    {
      "cell_type": "code",
      "execution_count": 564,
      "metadata": {
        "id": "NbKCkAvLzwHK"
      },
      "outputs": [],
      "source": [
        "class GaussianNaiveBayesian:\n",
        "    def build_table(self, X, y):\n",
        "        # classes for ground truth: there are only negative(0) and positive(1) for y (hospital_death)\n",
        "        self.classes = np.unique(y)\n",
        "        # record prior for two classes\n",
        "        self.class_priors = {}\n",
        "        # **feature_mean_var_table** is a 3D dictionary table:\n",
        "        # structure: [class]    [feature]           ['mean'] = mean\n",
        "        # structure: [class]    [feature]           ['var']  = var\n",
        "        # example:   [0]        ['gcs_eyes_apache'] ['mean'] = mean for feature='gcs_eyes_apache' when hospital_death=0\n",
        "        # example:   [0]        ['gcs_eyes_apache'] ['var']  = var for feature='gcs_eyes_apache' when hospital_death=0\n",
        "        self.feature_mean_var_table = {}\n",
        "        for c in self.classes:\n",
        "            X_c = X[y == c]\n",
        "            self.class_priors[c] = len(y[y == c]) / len(y) # TODO: calculate prior\n",
        "            self.feature_mean_var_table[c] = {}\n",
        "            for feature in X.columns:\n",
        "                self.feature_mean_var_table[c][feature] = {}\n",
        "                # Calculate mean and var for each feature\n",
        "                self.feature_mean_var_table[c][feature]['mean'] = X_c[feature].mean() # TDOO: calculate the mean\n",
        "                self.feature_mean_var_table[c][feature]['var'] = X_c[feature].var()  # TODO: calculate the var\n",
        "\n",
        "    def _calculate_likelihood(self, x, mean, var):\n",
        "        exponent = np.exp(-((x - mean) ** 2) / (2 * var))\n",
        "        return (1 / (np.sqrt(2 * np.pi * var))) * exponent\n",
        "        # return ... # TODO: calculate the Gaussian (normal) distribution pdf function as likelihoo\n",
        "\n",
        "    def predict(self, X):\n",
        "        predictions = [self._predict(x) for x in X.to_dict(orient='records')]\n",
        "        return predictions\n",
        "\n",
        "    def _predict(self, x):\n",
        "        log_posteriors = []\n",
        "        # this for loop implement: log(posteior) = log(prior) + log(likelihood)\n",
        "        for c in self.classes:\n",
        "            log_prior = np.log(self.class_priors[c])\n",
        "            log_likelihood = 0\n",
        "            for feature, value in x.items():\n",
        "                mean = self.feature_mean_var_table[c][feature]['mean']\n",
        "                var = self.feature_mean_var_table[c][feature]['var']\n",
        "                log_likelihood += np.log(self._calculate_likelihood(value, mean, var)) # TODO: calculate the log likelihood\n",
        "            log_posterior = log_prior + log_likelihood\n",
        "            log_posteriors.append((c, log_posterior))\n",
        "        return max(log_posteriors, key=lambda x: x[1])[0]\n",
        "        # return ... # TODO: Return the class with the highest logarithm of posterior probability as the predicted class\n"
      ]
    },
    {
      "cell_type": "markdown",
      "metadata": {
        "id": "3FGcgNBK9gs2"
      },
      "source": [
        "## Step 3: Build the classifier and check the correctness of Table building\n",
        "You can easily build an instance of your classifier and then create the table.\n",
        "\n",
        "To check whether you have correctly built the table of the ***Gaussian Naive Bayesian classifier***, there is an example for you to ensure that your implementation is correct.\n"
      ]
    },
    {
      "cell_type": "code",
      "execution_count": 565,
      "metadata": {
        "id": "52cFQayn8FGQ"
      },
      "outputs": [],
      "source": [
        "# Initialize and build_table the model\n",
        "gnb_classifier = GaussianNaiveBayesian()\n",
        "gnb_classifier.build_table(X, y)"
      ]
    },
    {
      "cell_type": "markdown",
      "metadata": {
        "id": "RC-bk7gT-2Ts"
      },
      "source": [
        "And you also need to output the dictionary variable ***feature_mean_var_table*** as a pickle file, which will be examined for correctness.\n",
        "> Note: Since this is for checking the implementation of the build_table method, please ensure that the input for your table building, ***X and y,*** is taken from the provided hw2_advanced_training.csv file ***BEFORE*** splitting the dataset into training and validation sets.\n",
        "\n",
        "> Hint: Two values for you to check the implementation correctness:\n",
        "\n",
        "\n",
        "> `gnb_classifier.feature_mean_var_table[0]['bmi']['mean']` is\n",
        "-0.10014\n",
        "\n",
        "> `gnb_classifier.feature_mean_var_table[0]['bmi']['var']` is\n",
        "0.90803"
      ]
    },
    {
      "cell_type": "code",
      "execution_count": 566,
      "metadata": {
        "colab": {
          "base_uri": "https://localhost:8080/"
        },
        "id": "yRYzPyNIEU0l",
        "outputId": "23296d5d-6f9b-47e4-edf8-aaca0daa0a84"
      },
      "outputs": [
        {
          "name": "stdout",
          "output_type": "stream",
          "text": [
            "pass\n"
          ]
        }
      ],
      "source": [
        "if round(gnb_classifier.feature_mean_var_table[0]['bmi']['mean'], 5) == -0.10014 and \\\n",
        "   round(gnb_classifier.feature_mean_var_table[0]['bmi']['var'], 5) == 0.90803:\n",
        "    print('pass')\n",
        "else:\n",
        "    print('fail')"
      ]
    },
    {
      "cell_type": "code",
      "execution_count": 567,
      "metadata": {
        "id": "zDJLzdxqEUXN"
      },
      "outputs": [],
      "source": [
        "# TODO: change your path to save the pickle file\n",
        "pickle_file_path = 'hw2_advanced_table'\n",
        "with open(pickle_file_path, 'wb') as table_file:\n",
        "    pickle.dump(gnb_classifier.feature_mean_var_table, table_file)\n",
        "    table_file.close()"
      ]
    },
    {
      "cell_type": "markdown",
      "metadata": {
        "id": "xV_-5sKla5Gi"
      },
      "source": [
        "## Step 4 Improve the classifier for Ranking 15%:\n",
        "\n",
        "To make your model have better performance, you can try different ways to modify your model.\n",
        "\n",
        "> hints (**you don't need to follow the hints**):\n",
        "\n",
        "1. You can deal with the **outliers**\n",
        "2. You can try first **converting real numbers into discrete values** and then using Naive Bayesian for classification.\n",
        "3. You can try **def a new class for giving the prior a different weight** for decision-making.\n",
        "4. Anything you want to try based on Bayesian.\n",
        "\n",
        "> Note: You need to consider what kind of operations should also be performed on the testing_df."
      ]
    },
    {
      "cell_type": "code",
      "execution_count": 629,
      "metadata": {},
      "outputs": [],
      "source": [
        "class NaiveBayes:\n",
        "    def __init__(self, m = 100000):\n",
        "        self.m = m\n",
        "    def build_table(self, X, y):\n",
        "        # classes for ground truth: there are only negative(0) and positive(1) for y (hospital_death)\n",
        "        self.classes = np.unique(y)\n",
        "        # record prior for two classes\n",
        "        self.class_priors = {}\n",
        "        # **feature_probs_table** is a 3D dictionary table:\n",
        "        # structure: [class]    [feature]           [value] = probs\n",
        "        # example:   [0]        ['gcs_eyes_apache'] [3]     = # of (hospital_death=0 && gcs_eyes_apache=3) / # of (hospital_death=0)\n",
        "        # for more usage of python dict, you can refer to the link: https://www.w3schools.com/python/python_dictionaries.asp\n",
        "        self.feature_probs_table = {}\n",
        "\n",
        "        # consider negative(0) and positive(1) separately\n",
        "        # modified\n",
        "        for c in self.classes:\n",
        "            X_c = X[y == c]\n",
        "            self.class_priors[c] = (len(X_c) + self.m/2) / (len(X) + self.m) # TODO: calculate the prior\n",
        "            self.feature_probs_table[c] = {}\n",
        "\n",
        "            for feature in X.columns:\n",
        "                self.feature_probs_table[c][feature] = {}\n",
        "                for value in np.unique(X_c[feature]):\n",
        "                    value_count = np.sum((X_c[feature] == value) & (y[y == c] == c)) # TODO: Calculate the count of data points with the current feature value and the current class\n",
        "                    total_count = np.sum(y == c) # TODO: Calculate the total count of data points with the current feature within the current class\n",
        "                    self.feature_probs_table[c][feature][value] = value_count / total_count # TODO: Calculate and store the conditional probability of the feature value given the class\n",
        "\n",
        "    def predict(self, X):\n",
        "        predictions = [self._predict(x) for x in X.to_dict(orient='records')]\n",
        "        return predictions\n",
        "\n",
        "    def _predict(self, x):\n",
        "        log_posteriors = []\n",
        "\n",
        "        # this for loop implement: log(posteior) = log(prior) + log(likelihood)\n",
        "        for c in self.classes:\n",
        "            log_prior = np.log(self.class_priors[c])\n",
        "            log_likelihood = 0\n",
        "            for feature, value in x.items():\n",
        "                if value in self.feature_probs_table[c][feature]:\n",
        "                    # you can look up the table for the likelihood\n",
        "                    _likelihood = self.feature_probs_table[c][feature][value] # TODO: calculate likelihood by the self.feature_probs_table\n",
        "                else:\n",
        "                    # to fix issue of some cases not appear in the table\n",
        "                    _likelihood = 1 / (len(self.feature_probs_table[c][feature]) + 1)\n",
        "                log_likelihood += np.log(_likelihood)\n",
        "            log_posterior = log_prior + log_likelihood\n",
        "            log_posteriors.append((c, log_posterior))\n",
        "        return max(log_posteriors, key=lambda x: x[1])[0] # TODO: Return the class with the highest logarithm of posterior probability as the predicted class\n"
      ]
    },
    {
      "cell_type": "code",
      "execution_count": 630,
      "metadata": {
        "id": "T0ZTX6Oca-3G"
      },
      "outputs": [
        {
          "data": {
            "text/plain": [
              "Ellipsis"
            ]
          },
          "execution_count": 630,
          "metadata": {},
          "output_type": "execute_result"
        }
      ],
      "source": [
        "# TODO: you can try the hints written above to get higher ranking score\n",
        "\n",
        "training_df = pd.read_csv('hw2_advanced_training.csv') # TODO: modify your file path\n",
        "testing_df = pd.read_csv('hw2_advanced_testing.csv') # TODO: modify your file path\n",
        "# Note: **you can change the order of following steps if you want**\n",
        "# Note: **BUT, please make sure you have saved 'hw2_advanced_table' for submission BEFORE making the following improvements.**\n",
        "\n",
        "... # hints(optional): deal with outliers\n",
        "... # hints(optional): converting real numbers into discrete values\n",
        "... # hints(optional): def a new class for giving the prior a different weight\n",
        "... # hints: Split the data into training and validation sets\n",
        "... # hints: build table for Bayesian Classifier\n",
        "... # anything you want to try based on Bayesian"
      ]
    },
    {
      "cell_type": "markdown",
      "metadata": {},
      "source": [
        "### Discretization\n",
        "To apply the Naive Bayes Classifier, we begin by dividing each group into segments, each with a size of 5000."
      ]
    },
    {
      "cell_type": "code",
      "execution_count": 631,
      "metadata": {},
      "outputs": [
        {
          "name": "stdout",
          "output_type": "stream",
          "text": [
            "age Max: 89, min: 16\n",
            "bmi Max: 67.81498973, min: 14.84492591\n",
            "glucose_apache Max: 598.7, min: 39.0\n",
            "\n",
            "age Max: 89, min: 16\n",
            "bmi Max: 67.81498973, min: 14.84492591\n",
            "glucose_apache Max: 598.7, min: 39.0\n",
            "diabetes_mellitus Max: 1, min: 0\n"
          ]
        }
      ],
      "source": [
        "for feature in testing_df.columns:\n",
        "    print(feature, f'Max: {max(testing_df[feature])}, min: {min(testing_df[feature])}')\n",
        "print()\n",
        "for feature in training_df.columns:\n",
        "    print(feature, f'Max: {max(training_df[feature])}, min: {min(training_df[feature])}')"
      ]
    },
    {
      "cell_type": "code",
      "execution_count": 632,
      "metadata": {},
      "outputs": [
        {
          "data": {
            "text/plain": [
              "65000"
            ]
          },
          "execution_count": 632,
          "metadata": {},
          "output_type": "execute_result"
        }
      ],
      "source": [
        "len(training_df)"
      ]
    },
    {
      "cell_type": "code",
      "execution_count": 633,
      "metadata": {},
      "outputs": [
        {
          "data": {
            "text/plain": [
              "[16, 35, 46, 52, 57, 61, 65, 69, 73, 77, 81, 86, 89]"
            ]
          },
          "execution_count": 633,
          "metadata": {},
          "output_type": "execute_result"
        }
      ],
      "source": [
        "def splitN(df, col, N = 5000):\n",
        "    n = len(df)\n",
        "    df_sorted = df.sort_values(by=col)\n",
        "    df_sorted = df_sorted.reset_index(drop=True)\n",
        "    boundaries = [df_sorted[col][0]]\n",
        "    ind = N\n",
        "    while ind < len(df_sorted):\n",
        "        current_element = df_sorted[col][ind]\n",
        "        boundaries.append(current_element)\n",
        "        \n",
        "        while ind+1 < n and current_element == df_sorted[col][ind+1]:\n",
        "            ind += 1\n",
        "        ind += N\n",
        "    if boundaries[-1] != df_sorted[col][len(df_sorted)-1]:\n",
        "        boundaries.append(df_sorted[col][len(df_sorted)-1])\n",
        "    return boundaries\n",
        "age_split = splitN(training_df, 'age')\n",
        "bmi_split = splitN(training_df, 'bmi')\n",
        "glucose_split = splitN(training_df, 'glucose_apache')\n",
        "age_split\n"
      ]
    },
    {
      "cell_type": "code",
      "execution_count": 634,
      "metadata": {},
      "outputs": [],
      "source": [
        "age_labels = ['[{}-{})'.format(start, end) for start, end in zip(age_split, age_split[1:])]\n",
        "training_df['age' + '_category'] = pd.cut(training_df['age'], \n",
        "                                bins=age_split, \n",
        "                                labels=age_labels\n",
        "                                )\n",
        "bmi_labels = ['[{:0.2f}-{:0.2f})'.format(start, end) for start, end in zip(bmi_split, bmi_split[1:])]\n",
        "training_df['bmi' + '_category'] = pd.cut(training_df['bmi'], \n",
        "                                bins=bmi_split, \n",
        "                                labels=bmi_labels\n",
        "                                )\n",
        "glucose_labels = ['[{}-{})'.format(start, end) for start, end in zip(glucose_split, glucose_split[1:])]\n",
        "training_df['glucose_apache' + '_category'] = pd.cut(training_df['glucose_apache'], \n",
        "                                bins=glucose_split, \n",
        "                                labels=glucose_labels\n",
        "                                )"
      ]
    },
    {
      "cell_type": "code",
      "execution_count": 635,
      "metadata": {},
      "outputs": [
        {
          "data": {
            "text/html": [
              "<div>\n",
              "<style scoped>\n",
              "    .dataframe tbody tr th:only-of-type {\n",
              "        vertical-align: middle;\n",
              "    }\n",
              "\n",
              "    .dataframe tbody tr th {\n",
              "        vertical-align: top;\n",
              "    }\n",
              "\n",
              "    .dataframe thead th {\n",
              "        text-align: right;\n",
              "    }\n",
              "</style>\n",
              "<table border=\"1\" class=\"dataframe\">\n",
              "  <thead>\n",
              "    <tr style=\"text-align: right;\">\n",
              "      <th></th>\n",
              "      <th>bmi_category</th>\n",
              "      <th>age_category</th>\n",
              "      <th>glucose_apache_category</th>\n",
              "    </tr>\n",
              "  </thead>\n",
              "  <tbody>\n",
              "    <tr>\n",
              "      <th>0</th>\n",
              "      <td>[36.75-41.80)</td>\n",
              "      <td>[61-65)</td>\n",
              "      <td>[263.0-367.0)</td>\n",
              "    </tr>\n",
              "    <tr>\n",
              "      <th>1</th>\n",
              "      <td>[21.98-23.49)</td>\n",
              "      <td>[81-86)</td>\n",
              "      <td>[170.0-190.0)</td>\n",
              "    </tr>\n",
              "    <tr>\n",
              "      <th>2</th>\n",
              "      <td>[14.84-20.00)</td>\n",
              "      <td>[52-57)</td>\n",
              "      <td>[79.0-89.0)</td>\n",
              "    </tr>\n",
              "    <tr>\n",
              "      <th>3</th>\n",
              "      <td>[28.61-30.05)</td>\n",
              "      <td>[16-35)</td>\n",
              "      <td>[79.0-89.0)</td>\n",
              "    </tr>\n",
              "    <tr>\n",
              "      <th>4</th>\n",
              "      <td>[23.49-24.84)</td>\n",
              "      <td>[35-46)</td>\n",
              "      <td>[367.0-598.7)</td>\n",
              "    </tr>\n",
              "    <tr>\n",
              "      <th>...</th>\n",
              "      <td>...</td>\n",
              "      <td>...</td>\n",
              "      <td>...</td>\n",
              "    </tr>\n",
              "    <tr>\n",
              "      <th>64995</th>\n",
              "      <td>[26.05-27.34)</td>\n",
              "      <td>[81-86)</td>\n",
              "      <td>[96.0-104.0)</td>\n",
              "    </tr>\n",
              "    <tr>\n",
              "      <th>64996</th>\n",
              "      <td>[26.05-27.34)</td>\n",
              "      <td>[69-73)</td>\n",
              "      <td>[152.0-170.0)</td>\n",
              "    </tr>\n",
              "    <tr>\n",
              "      <th>64997</th>\n",
              "      <td>[23.49-24.84)</td>\n",
              "      <td>[61-65)</td>\n",
              "      <td>[79.0-89.0)</td>\n",
              "    </tr>\n",
              "    <tr>\n",
              "      <th>64998</th>\n",
              "      <td>[41.80-67.81)</td>\n",
              "      <td>[35-46)</td>\n",
              "      <td>[113.0-130.0)</td>\n",
              "    </tr>\n",
              "    <tr>\n",
              "      <th>64999</th>\n",
              "      <td>[14.84-20.00)</td>\n",
              "      <td>[77-81)</td>\n",
              "      <td>[96.0-104.0)</td>\n",
              "    </tr>\n",
              "  </tbody>\n",
              "</table>\n",
              "<p>65000 rows × 3 columns</p>\n",
              "</div>"
            ],
            "text/plain": [
              "        bmi_category age_category glucose_apache_category\n",
              "0      [36.75-41.80)      [61-65)           [263.0-367.0)\n",
              "1      [21.98-23.49)      [81-86)           [170.0-190.0)\n",
              "2      [14.84-20.00)      [52-57)             [79.0-89.0)\n",
              "3      [28.61-30.05)      [16-35)             [79.0-89.0)\n",
              "4      [23.49-24.84)      [35-46)           [367.0-598.7)\n",
              "...              ...          ...                     ...\n",
              "64995  [26.05-27.34)      [81-86)            [96.0-104.0)\n",
              "64996  [26.05-27.34)      [69-73)           [152.0-170.0)\n",
              "64997  [23.49-24.84)      [61-65)             [79.0-89.0)\n",
              "64998  [41.80-67.81)      [35-46)           [113.0-130.0)\n",
              "64999  [14.84-20.00)      [77-81)            [96.0-104.0)\n",
              "\n",
              "[65000 rows x 3 columns]"
            ]
          },
          "execution_count": 635,
          "metadata": {},
          "output_type": "execute_result"
        }
      ],
      "source": [
        "training_df[['bmi_category', 'age_category', 'glucose_apache_category']]"
      ]
    },
    {
      "cell_type": "markdown",
      "metadata": {},
      "source": [
        "Our Naive Bayesian classifier does not support string labels. To ensure compatibility and functionality, we must transform the categorical labels into integer values."
      ]
    },
    {
      "cell_type": "code",
      "execution_count": 636,
      "metadata": {},
      "outputs": [],
      "source": [
        "def transform_label(str_label, str_labels):\n",
        "    int_labels = [i for i in range(len(str_labels))]\n",
        "    return int_labels[str_labels.index(str_label)]"
      ]
    },
    {
      "cell_type": "code",
      "execution_count": 637,
      "metadata": {},
      "outputs": [],
      "source": [
        "training_df['age_category_i'] = training_df['age_category'].apply(transform_label,\n",
        "                                                                  str_labels = age_labels\n",
        "                                                                  )\n",
        "training_df['bmi_category_i'] = training_df['bmi_category'].apply(transform_label,\n",
        "                                                                  str_labels = bmi_labels\n",
        "                                                                  )\n",
        "training_df['glucose_apache_category_i'] = training_df['glucose_apache_category'].apply(transform_label,\n",
        "                                                                  str_labels = glucose_labels\n",
        "                                                                  )"
      ]
    },
    {
      "cell_type": "markdown",
      "metadata": {
        "id": "3VtFVxggz7I4"
      },
      "source": [
        "## Step 5: Make predictions and perform evaluation\n",
        "You should test your model by evaluating the training set and validation set using the ***cal_f1_score*** function you implemented.\n"
      ]
    },
    {
      "cell_type": "code",
      "execution_count": 649,
      "metadata": {
        "id": "415sqX0D_jFY"
      },
      "outputs": [
        {
          "name": "stderr",
          "output_type": "stream",
          "text": [
            "No artists with labels found to put in legend.  Note that artists whose label start with an underscore are ignored when legend() is called with no argument.\n",
            "No artists with labels found to put in legend.  Note that artists whose label start with an underscore are ignored when legend() is called with no argument.\n"
          ]
        },
        {
          "data": {
            "image/png": "[encoded data removed]",
            "text/plain": [
              "<Figure size 640x480 with 1 Axes>"
            ]
          },
          "metadata": {},
          "output_type": "display_data"
        }
      ],
      "source": [
        "... # TODO: build table on the training set\n",
        "... # TODO: Make predictions on training set and calculate the f1-score\n",
        "... # TODO: Make predictions on validation set and calculate the f1-score\n",
        "# TODO: Build table on the training set\n",
        "import matplotlib.pyplot as plt\n",
        "X_train = training_df[['bmi_category_i', 'age_category_i', 'glucose_apache_category_i']]\n",
        "y_train = training_df['diabetes_mellitus']\n",
        "X_train, X_val, y_train, y_val = train_val_split(X_train, y_train,\n",
        "                                                 split_ratio=0.2,\n",
        "                                                 random_state=50)\n",
        "tprs = []\n",
        "fprs = []\n",
        "for m in range(4000, 100000, 2000):\n",
        "    nb_classifier = NaiveBayes(m = m)\n",
        "    nb_classifier.build_table(X_train, y_train)\n",
        "\n",
        "    train_predictions = nb_classifier.predict(X_train)\n",
        "    train_f1_score = cal_f1_score(y_train, train_predictions)\n",
        "\n",
        "    val_predictions = nb_classifier.predict(X_val)\n",
        "    val_f1_score = cal_f1_score(y_val, val_predictions)\n",
        "    tpr = cal_recall(y_val, val_predictions)\n",
        "    fpr = cal_FPR(y_val, val_predictions)\n",
        "    tprs.append(tpr)\n",
        "    fprs.append(fpr)\n",
        "    # Print the F1-scores\n",
        "    # print(f\"Training F1-Score: {train_f1_score}\")\n",
        "    # print(f\"Validation F1-Score: {val_f1_score}\")\n",
        "plt.plot(fprs, tprs, lw=2)\n",
        "plt.xlim([-0.05, 1.05])\n",
        "plt.ylim([-0.05, 1.05])\n",
        "plt.xlabel('FPR')\n",
        "plt.ylabel('TPR')\n",
        "plt.title('ROC Curve')\n",
        "plt.legend(loc=\"lower right\")\n",
        "plt.tight_layout()\n",
        "plt.legend(loc=4, prop={'size': 18})\n",
        "plt.savefig('./output/fig-roc-lg.png', dpi=300)\n",
        "plt.show()"
      ]
    },
    {
      "cell_type": "code",
      "execution_count": 648,
      "metadata": {},
      "outputs": [
        {
          "data": {
            "text/plain": [
              "[0.4851600841318065, 0.5180338085222403, 0.5389109605047908]"
            ]
          },
          "execution_count": 648,
          "metadata": {},
          "output_type": "execute_result"
        }
      ],
      "source": [
        "tprs"
      ]
    },
    {
      "cell_type": "code",
      "execution_count": 639,
      "metadata": {},
      "outputs": [
        {
          "data": {
            "text/plain": [
              "list"
            ]
          },
          "execution_count": 639,
          "metadata": {},
          "output_type": "execute_result"
        }
      ],
      "source": [
        "mask = X_val['age_category_i'] == 0\n",
        "type(val_predictions)"
      ]
    },
    {
      "cell_type": "code",
      "execution_count": 640,
      "metadata": {},
      "outputs": [],
      "source": [
        "age_f1 = []\n",
        "age_precision = []\n",
        "age_recall = []\n",
        "\n",
        "bmi_f1 = []\n",
        "bmi_precision = []\n",
        "bmi_recall = []\n",
        "\n",
        "glucose_f1 = []\n",
        "glucose_precision = []\n",
        "glucose_recall = []\n",
        "\n",
        "val_pred_arr = np.array(val_predictions)\n",
        "\n",
        "# Calculate metrics for age labels\n",
        "for i in range(len(age_labels)):\n",
        "    mask = X_val['age_category_i'] == i\n",
        "    precision = cal_precision(y_val[mask], val_pred_arr[mask])\n",
        "    recall = cal_recall(y_val[mask], val_pred_arr[mask])\n",
        "    val_f1_score = cal_f1_score(y_val[mask], val_pred_arr[mask])\n",
        "\n",
        "    age_f1.append(val_f1_score)\n",
        "    age_precision.append(precision)\n",
        "    age_recall.append(recall)\n",
        "\n",
        "# Calculate F1 scores for BMI labels\n",
        "for i in range(len(bmi_labels)):\n",
        "    mask = X_val['bmi_category_i'] == i\n",
        "    precision = cal_precision(y_val[mask], val_pred_arr[mask])\n",
        "    recall = cal_recall(y_val[mask], val_pred_arr[mask])\n",
        "    val_f1_score = cal_f1_score(y_val[mask], val_pred_arr[mask])\n",
        "\n",
        "    bmi_f1.append(val_f1_score)\n",
        "    bmi_precision.append(precision)\n",
        "    bmi_recall.append(recall)\n",
        "\n",
        "# Calculate F1 scores for glucose labels\n",
        "for i in range(len(glucose_labels)):\n",
        "    mask = X_val['glucose_apache_category_i'] == i\n",
        "    precision = cal_precision(y_val[mask], val_pred_arr[mask])\n",
        "    recall = cal_recall(y_val[mask], val_pred_arr[mask])\n",
        "    val_f1_score = cal_f1_score(y_val[mask], val_pred_arr[mask])\n",
        "    \n",
        "    glucose_f1.append(val_f1_score)\n",
        "    glucose_precision.append(precision)\n",
        "    glucose_recall.append(recall)\n"
      ]
    },
    {
      "cell_type": "code",
      "execution_count": null,
      "metadata": {},
      "outputs": [],
      "source": []
    },
    {
      "cell_type": "code",
      "execution_count": 641,
      "metadata": {},
      "outputs": [
        {
          "data": {
            "image/png": "[encoded data removed]",
            "text/plain": [
              "<Figure size 1200x600 with 1 Axes>"
            ]
          },
          "metadata": {},
          "output_type": "display_data"
        },
        {
          "data": {
            "image/png": "[encoded data removed]",
            "text/plain": [
              "<Figure size 1200x600 with 1 Axes>"
            ]
          },
          "metadata": {},
          "output_type": "display_data"
        },
        {
          "data": {
            "image/png": "[encoded data removed]",
            "text/plain": [
              "<Figure size 1200x600 with 1 Axes>"
            ]
          },
          "metadata": {},
          "output_type": "display_data"
        }
      ],
      "source": [
        "import matplotlib.pyplot as plt\n",
        "\n",
        "# Plot age data\n",
        "plt.figure(figsize=(12, 6))\n",
        "plt.plot(age_labels, age_f1, color='steelblue',alpha=0.4, label='Age F1 Scores')\n",
        "plt.plot(age_labels, age_precision, color='red',alpha=0.4 ,label='Age Precision')\n",
        "plt.plot(age_labels, age_recall, color='green',alpha=0.4 , label='Age Recall')\n",
        "plt.xlabel('Labels')\n",
        "plt.ylabel('F1 Score')\n",
        "plt.title('F1 Scores for Age Labels')\n",
        "plt.xticks(rotation=90)\n",
        "plt.legend()\n",
        "\n",
        "# Show the plot\n",
        "plt.grid(True)\n",
        "plt.show()\n",
        "\n",
        "# Plot BMI data\n",
        "plt.figure(figsize=(12, 6))\n",
        "plt.plot(bmi_labels, bmi_f1, color='steelblue',alpha=0.4, label='BMI F1 Scores')\n",
        "plt.plot(bmi_labels, bmi_precision, color='red', alpha=0.4, label='BMI Precision')\n",
        "plt.plot(bmi_labels, bmi_recall, color='green',alpha=0.4, label='BMI Recall')\n",
        "plt.xlabel('Labels')\n",
        "plt.ylabel('F1 Score')\n",
        "plt.title('F1 Scores for BMI Labels')\n",
        "plt.xticks(rotation=90)\n",
        "plt.legend()\n",
        "\n",
        "# Show the plot\n",
        "plt.grid(True)\n",
        "plt.show()\n",
        "\n",
        "# Plot glucose data\n",
        "plt.figure(figsize=(12, 6))\n",
        "plt.plot(glucose_labels, glucose_f1, color='steelblue',alpha=0.4, label='Glucose F1 Scores')\n",
        "plt.plot(glucose_labels, glucose_precision, color='red',alpha=0.2, label='Glucose Precision')\n",
        "plt.plot(glucose_labels, glucose_recall, color='green',alpha=0.4, label='Glucose Recall')\n",
        "plt.xlabel('Labels')\n",
        "plt.ylabel('F1 Score')\n",
        "plt.title('F1 Scores for Glucose Labels')\n",
        "plt.xticks(rotation=90)\n",
        "plt.legend()\n",
        "\n",
        "# Show the plot\n",
        "plt.grid(True)\n",
        "plt.show()"
      ]
    },
    {
      "cell_type": "markdown",
      "metadata": {
        "id": "LJWF-tfA_Q9d"
      },
      "source": [
        "## Step 6: Generate result\n",
        "> Note: Please follow the format mentioned in the slides. You can only change the path for saving your code down below.\n"
      ]
    },
    {
      "cell_type": "code",
      "execution_count": 642,
      "metadata": {
        "id": "ZX6FV9tRK6Fp"
      },
      "outputs": [
        {
          "ename": "TypeError",
          "evalue": "'ellipsis' object is not iterable",
          "output_type": "error",
          "traceback": [
            "\u001b[1;31m---------------------------------------------------------------------------\u001b[0m",
            "\u001b[1;31mTypeError\u001b[0m                                 Traceback (most recent call last)",
            "\u001b[1;32mc:\\Users\\zijun0502\\Codes\\Python\\ML2023-HW\\HW2\\hw2_template.ipynb Cell 65\u001b[0m line \u001b[0;36m1\n\u001b[0;32m      <a href='vscode-notebook-cell:/c%3A/Users/zijun0502/Codes/Python/ML2023-HW/HW2/hw2_template.ipynb#Y116sZmlsZQ%3D%3D?line=7'>8</a>\u001b[0m writer \u001b[39m=\u001b[39m csv\u001b[39m.\u001b[39mwriter(csv_file)\n\u001b[0;32m      <a href='vscode-notebook-cell:/c%3A/Users/zijun0502/Codes/Python/ML2023-HW/HW2/hw2_template.ipynb#Y116sZmlsZQ%3D%3D?line=8'>9</a>\u001b[0m writer\u001b[39m.\u001b[39mwriterow([\u001b[39m'\u001b[39m\u001b[39mPrediction\u001b[39m\u001b[39m'\u001b[39m])\n\u001b[1;32m---> <a href='vscode-notebook-cell:/c%3A/Users/zijun0502/Codes/Python/ML2023-HW/HW2/hw2_template.ipynb#Y116sZmlsZQ%3D%3D?line=9'>10</a>\u001b[0m \u001b[39mfor\u001b[39;00m prediction \u001b[39min\u001b[39;00m predictions:\n\u001b[0;32m     <a href='vscode-notebook-cell:/c%3A/Users/zijun0502/Codes/Python/ML2023-HW/HW2/hw2_template.ipynb#Y116sZmlsZQ%3D%3D?line=10'>11</a>\u001b[0m     writer\u001b[39m.\u001b[39mwriterow([prediction])\n",
            "\u001b[1;31mTypeError\u001b[0m: 'ellipsis' object is not iterable"
          ]
        }
      ],
      "source": [
        "predictions = ... # TODO: predict on the testing_df\n",
        "\n",
        "# TODO: Specify the CSV file path\n",
        "csv_file_path = 'hw2_advanced_prediction.csv'\n",
        "\n",
        "# Write the predictions to the CSV file\n",
        "with open(csv_file_path, 'w', newline='') as csv_file:\n",
        "    writer = csv.writer(csv_file)\n",
        "    writer.writerow(['Prediction'])\n",
        "    for prediction in predictions:\n",
        "        writer.writerow([prediction])"
      ]
    },
    {
      "cell_type": "markdown",
      "metadata": {
        "id": "17MKZrvgSQMK"
      },
      "source": [
        "# Report *(5%)*\n",
        "\n",
        "Report should be submitted as a pdf file **hw2_report.pdf**\n",
        "\n",
        "* Briefly describe why we take log when implement the Bayesian classifier? (1%)\n",
        "* Briefly describe the difference between Naïve Bayesian and Gaussian Naïve Bayesian classifier? (1%)\n",
        "* Briefly describe the difficulty you encountered (1%)\n",
        "* Summarize how you solve the difficulty and your reflections (2%)\n",
        "* **No more than one page**"
      ]
    },
    {
      "cell_type": "markdown",
      "metadata": {
        "id": "j4P5yTr4Sa3k"
      },
      "source": [
        "# Save the Code File\n",
        "Please save your code and submit it as an ipynb file! (**hw2.ipynb**)"
      ]
    },
    {
      "cell_type": "markdown",
      "metadata": {
        "id": "I24lVr726Y2h"
      },
      "source": [
        "# Submission:\n",
        "1. hw2_basic_prediction.csv\n",
        "2. hw2_basic_table: **make sure you build_table BEFORE split train_val set, and pass the given example**\n",
        "3. hw2_advanced_prediction.csv\n",
        "4. hw2_advanced_table: **make sure you build_table BEFORE split train_val set or pre-processing, and pass the given example**\n",
        "5. hw2.ipynb\n",
        "6. hw2_report.pdf"
      ]
    }
  ],
  "metadata": {
    "colab": {
      "provenance": [],
      "toc_visible": true
    },
    "kernelspec": {
      "display_name": "Python 3",
      "name": "python3"
    },
    "language_info": {
      "codemirror_mode": {
        "name": "ipython",
        "version": 3
      },
      "file_extension": ".py",
      "mimetype": "text/x-python",
      "name": "python",
      "nbconvert_exporter": "python",
      "pygments_lexer": "ipython3",
      "version": "3.9.6"
    }
  },
  "nbformat": 4,
  "nbformat_minor": 0
}
