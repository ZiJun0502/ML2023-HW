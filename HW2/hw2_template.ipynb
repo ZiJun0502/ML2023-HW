{
  "cells": [
    {
      "cell_type": "code",
      "execution_count": 1,
      "metadata": {
        "colab": {
          "base_uri": "https://localhost:8080/"
        },
        "id": "-NzLuYS6pwUv",
        "outputId": "c691e894-4140-4e3f-8ed1-4d81aef48adc"
      },
      "outputs": [],
      "source": [
        "# from google.colab import drive\n",
        "# drive.mount('/content/drive')"
      ]
    },
    {
      "cell_type": "markdown",
      "metadata": {
        "id": "7gCDMiNJVDAS"
      },
      "source": [
        "# **HW 2: Classification**\n",
        "In *homework 2*, you need to finish:\n",
        "\n",
        "1.  Basic Part:\n",
        "\n",
        "> *   Step 1: Load the input Data\n",
        "> *   Step 2: Implement Naive Bayesian classifier\n",
        "> *   Step 3: Build the classifier and check the correctness of Table building\n",
        "> *   Step 4: Split Data\n",
        "> *   Step 5: Make prediction and perform evaluation\n",
        "> *   Step 6: Generate results\n",
        "\n",
        "2.  Advanced Part:\n",
        "\n",
        "> *   Step 1: Load the input Data\n",
        "> *   Step 2: Implement Gaussian Naive Bayesian classifier\n",
        "> *   Step 3: Build the classifier and check the correctness of Table building\n",
        "> *   Step 4 Improve the classifier for Ranking\n",
        "> *   Step 5: Make prediction and perform evaluation\n",
        "> *   Step 6: Generate results"
      ]
    },
    {
      "cell_type": "markdown",
      "metadata": {
        "id": "7iSLeN98WAGM"
      },
      "source": [
        "# **1. Basic Part (55%)**\n",
        "In the first part, you need to implement the Naive Bayesian classifier:\n",
        "- input features: ***9 physiological features***\n",
        "- output prediction: ***hospital_death***"
      ]
    },
    {
      "cell_type": "markdown",
      "metadata": {
        "id": "FLGnqdEnXT20"
      },
      "source": [
        "## *Import Packages*\n",
        "\n",
        "> Note: You **cannot** import any other package"
      ]
    },
    {
      "cell_type": "code",
      "execution_count": 2,
      "metadata": {
        "id": "ROPDPsjdXpSf"
      },
      "outputs": [],
      "source": [
        "import numpy as np\n",
        "import pandas as pd\n",
        "import csv\n",
        "import math\n",
        "import random\n",
        "import pickle"
      ]
    },
    {
      "cell_type": "markdown",
      "metadata": {
        "id": "yLeI_t2PAEPe"
      },
      "source": [
        "## Global attributes\n",
        "> You can add your own global attributes here\n"
      ]
    },
    {
      "cell_type": "code",
      "execution_count": null,
      "metadata": {
        "id": "bBWtZJPLAIdJ"
      },
      "outputs": [],
      "source": []
    },
    {
      "cell_type": "markdown",
      "metadata": {
        "id": "UjMH9mAIXnAU"
      },
      "source": [
        "## Step 1: Load the input Data\n",
        "Load the input file **hw2_basic_training.csv**\n",
        "\n",
        "> Note: please don't change the input var name ***training_df, testing_df, X, and y***."
      ]
    },
    {
      "cell_type": "code",
      "execution_count": 3,
      "metadata": {
        "id": "yDh8Ah9RY3z0"
      },
      "outputs": [],
      "source": [
        "# TODO: modify your file path\n",
        "training_df = pd.read_csv('hw2_basic_training.csv')\n",
        "testing_df = pd.read_csv('hw2_basic_testing.csv')\n",
        "y = training_df['hospital_death']\n",
        "X = training_df.drop('hospital_death', axis=1)"
      ]
    },
    {
      "cell_type": "markdown",
      "metadata": {
        "id": "Sr06keeMWKKu"
      },
      "source": [
        "you can take a look at the input feature & ground truth format:"
      ]
    },
    {
      "cell_type": "code",
      "execution_count": 4,
      "metadata": {
        "id": "V0pbarO8ja0F"
      },
      "outputs": [
        {
          "data": {
            "text/html": [
              "<div>\n",
              "<style scoped>\n",
              "    .dataframe tbody tr th:only-of-type {\n",
              "        vertical-align: middle;\n",
              "    }\n",
              "\n",
              "    .dataframe tbody tr th {\n",
              "        vertical-align: top;\n",
              "    }\n",
              "\n",
              "    .dataframe thead th {\n",
              "        text-align: right;\n",
              "    }\n",
              "</style>\n",
              "<table border=\"1\" class=\"dataframe\">\n",
              "  <thead>\n",
              "    <tr style=\"text-align: right;\">\n",
              "      <th></th>\n",
              "      <th>ventilated_apache</th>\n",
              "      <th>gcs_eyes_apache</th>\n",
              "      <th>gcs_motor_apache</th>\n",
              "      <th>gcs_verbal_apache</th>\n",
              "      <th>albumin_apache</th>\n",
              "      <th>bilirubin_apache</th>\n",
              "      <th>bun_apache</th>\n",
              "      <th>creatinine_apache</th>\n",
              "      <th>fio2_apache</th>\n",
              "    </tr>\n",
              "  </thead>\n",
              "  <tbody>\n",
              "    <tr>\n",
              "      <th>0</th>\n",
              "      <td>1</td>\n",
              "      <td>4</td>\n",
              "      <td>6</td>\n",
              "      <td>1</td>\n",
              "      <td>0</td>\n",
              "      <td>0</td>\n",
              "      <td>1</td>\n",
              "      <td>1</td>\n",
              "      <td>1</td>\n",
              "    </tr>\n",
              "    <tr>\n",
              "      <th>1</th>\n",
              "      <td>0</td>\n",
              "      <td>4</td>\n",
              "      <td>6</td>\n",
              "      <td>4</td>\n",
              "      <td>1</td>\n",
              "      <td>1</td>\n",
              "      <td>1</td>\n",
              "      <td>1</td>\n",
              "      <td>0</td>\n",
              "    </tr>\n",
              "    <tr>\n",
              "      <th>2</th>\n",
              "      <td>0</td>\n",
              "      <td>4</td>\n",
              "      <td>6</td>\n",
              "      <td>5</td>\n",
              "      <td>0</td>\n",
              "      <td>0</td>\n",
              "      <td>0</td>\n",
              "      <td>0</td>\n",
              "      <td>0</td>\n",
              "    </tr>\n",
              "    <tr>\n",
              "      <th>3</th>\n",
              "      <td>0</td>\n",
              "      <td>3</td>\n",
              "      <td>6</td>\n",
              "      <td>4</td>\n",
              "      <td>0</td>\n",
              "      <td>0</td>\n",
              "      <td>1</td>\n",
              "      <td>1</td>\n",
              "      <td>0</td>\n",
              "    </tr>\n",
              "    <tr>\n",
              "      <th>4</th>\n",
              "      <td>1</td>\n",
              "      <td>3</td>\n",
              "      <td>3</td>\n",
              "      <td>1</td>\n",
              "      <td>0</td>\n",
              "      <td>0</td>\n",
              "      <td>1</td>\n",
              "      <td>1</td>\n",
              "      <td>1</td>\n",
              "    </tr>\n",
              "    <tr>\n",
              "      <th>5</th>\n",
              "      <td>0</td>\n",
              "      <td>4</td>\n",
              "      <td>6</td>\n",
              "      <td>5</td>\n",
              "      <td>0</td>\n",
              "      <td>0</td>\n",
              "      <td>0</td>\n",
              "      <td>0</td>\n",
              "      <td>0</td>\n",
              "    </tr>\n",
              "    <tr>\n",
              "      <th>6</th>\n",
              "      <td>1</td>\n",
              "      <td>4</td>\n",
              "      <td>6</td>\n",
              "      <td>5</td>\n",
              "      <td>0</td>\n",
              "      <td>0</td>\n",
              "      <td>1</td>\n",
              "      <td>1</td>\n",
              "      <td>1</td>\n",
              "    </tr>\n",
              "    <tr>\n",
              "      <th>7</th>\n",
              "      <td>0</td>\n",
              "      <td>4</td>\n",
              "      <td>6</td>\n",
              "      <td>5</td>\n",
              "      <td>1</td>\n",
              "      <td>1</td>\n",
              "      <td>1</td>\n",
              "      <td>1</td>\n",
              "      <td>0</td>\n",
              "    </tr>\n",
              "    <tr>\n",
              "      <th>8</th>\n",
              "      <td>1</td>\n",
              "      <td>4</td>\n",
              "      <td>6</td>\n",
              "      <td>5</td>\n",
              "      <td>0</td>\n",
              "      <td>0</td>\n",
              "      <td>0</td>\n",
              "      <td>0</td>\n",
              "      <td>0</td>\n",
              "    </tr>\n",
              "    <tr>\n",
              "      <th>9</th>\n",
              "      <td>0</td>\n",
              "      <td>4</td>\n",
              "      <td>6</td>\n",
              "      <td>5</td>\n",
              "      <td>1</td>\n",
              "      <td>1</td>\n",
              "      <td>1</td>\n",
              "      <td>1</td>\n",
              "      <td>0</td>\n",
              "    </tr>\n",
              "  </tbody>\n",
              "</table>\n",
              "</div>"
            ],
            "text/plain": [
              "   ventilated_apache  gcs_eyes_apache  gcs_motor_apache  gcs_verbal_apache  \\\n",
              "0                  1                4                 6                  1   \n",
              "1                  0                4                 6                  4   \n",
              "2                  0                4                 6                  5   \n",
              "3                  0                3                 6                  4   \n",
              "4                  1                3                 3                  1   \n",
              "5                  0                4                 6                  5   \n",
              "6                  1                4                 6                  5   \n",
              "7                  0                4                 6                  5   \n",
              "8                  1                4                 6                  5   \n",
              "9                  0                4                 6                  5   \n",
              "\n",
              "   albumin_apache  bilirubin_apache  bun_apache  creatinine_apache  \\\n",
              "0               0                 0           1                  1   \n",
              "1               1                 1           1                  1   \n",
              "2               0                 0           0                  0   \n",
              "3               0                 0           1                  1   \n",
              "4               0                 0           1                  1   \n",
              "5               0                 0           0                  0   \n",
              "6               0                 0           1                  1   \n",
              "7               1                 1           1                  1   \n",
              "8               0                 0           0                  0   \n",
              "9               1                 1           1                  1   \n",
              "\n",
              "   fio2_apache  \n",
              "0            1  \n",
              "1            0  \n",
              "2            0  \n",
              "3            0  \n",
              "4            1  \n",
              "5            0  \n",
              "6            1  \n",
              "7            0  \n",
              "8            0  \n",
              "9            0  "
            ]
          },
          "execution_count": 4,
          "metadata": {},
          "output_type": "execute_result"
        }
      ],
      "source": [
        "X[:10]"
      ]
    },
    {
      "cell_type": "code",
      "execution_count": 5,
      "metadata": {
        "id": "LxvHkm1XjbUh"
      },
      "outputs": [
        {
          "data": {
            "text/plain": [
              "0    0\n",
              "1    0\n",
              "2    0\n",
              "3    0\n",
              "4    0\n",
              "5    0\n",
              "6    0\n",
              "7    0\n",
              "8    0\n",
              "9    0\n",
              "Name: hospital_death, dtype: int64"
            ]
          },
          "execution_count": 5,
          "metadata": {},
          "output_type": "execute_result"
        }
      ],
      "source": [
        "y[:10]"
      ]
    },
    {
      "cell_type": "markdown",
      "metadata": {
        "id": "WSuKwSE0ohxt"
      },
      "source": [
        "## Step 2: Implement Naive Bayesian classifier\n",
        "In this part, you need to implement the Naive Bayesian classifier. Since the data is categorical, you can refer to the L3-Bayesian Classifier course slides, p.12~16. The Bayes' theorem is as follows:\n",
        "\n",
        "$$P(C|X) = \\frac{P(X|C) \\cdot P(C)}{P(X)}$$\n",
        "\n",
        "We know that taking the logarithm of a series of multiplications can be transformed into a series of additions, making it easier to calculate. So, we can formulate it as follows by taking the logarithm of both sides:\n",
        "\n",
        "$$\\log(P(C|X)) = \\log(P(X|C)) + \\log(P(C)) - \\log(P(X))$$\n",
        "\n",
        "The term $\\log(P(X))$ is a normalization constant that ensures the probabilities sum to 1 across all classes and is the same for all classes. Since it's constant during prediction for all classes, it doesn't affect class comparison. Therefore, in practice, you don't need to compute or include $\\log(P(X))$ explicitly when comparing classes. Instead, you can focus on the relative values of the posterior probabilities.\n",
        "\n",
        "So the **final equation** for implementation will be:\n",
        "$$\\log(P(C|X)) = \\log(P(X|C)) + \\log(P(C))$$\n",
        "\n",
        "However, this equation may still encounter issues if the likelihood $P(X|C)$ equals 0, leading to an undefined $\\log(P(X|C))$. To handle this exception, a simple way to avoid the issue is to assume the addition of one new record to the table to calculate the likelihood:\n",
        "\n",
        "_likelihood = 1 / (len(self.feature_probs_table[c][feature]) + 1)\n"
      ]
    },
    {
      "cell_type": "code",
      "execution_count": 6,
      "metadata": {
        "id": "iRb5mruK9w-p"
      },
      "outputs": [],
      "source": [
        "class NaiveBayes:\n",
        "    def build_table(self, X, y):\n",
        "        # classes for ground truth: there are only negative(0) and positive(1) for y (hospital_death)\n",
        "        self.classes = np.unique(y)\n",
        "        # record prior for two classes\n",
        "        self.class_priors = {}\n",
        "        # **feature_probs_table** is a 3D dictionary table:\n",
        "        # structure: [class]    [feature]           [value] = probs\n",
        "        # example:   [0]        ['gcs_eyes_apache'] [3]     = # of (hospital_death=0 && gcs_eyes_apache=3) / # of (hospital_death=0)\n",
        "        # for more usage of python dict, you can refer to the link: https://www.w3schools.com/python/python_dictionaries.asp\n",
        "        self.feature_probs_table = {}\n",
        "\n",
        "        # consider negative(0) and positive(1) separately\n",
        "        for c in self.classes:\n",
        "            X_c = X[y == c]\n",
        "            self.class_priors[c] = len(X_c) / len(X) # TODO: calculate the prior\n",
        "            self.feature_probs_table[c] = {}\n",
        "\n",
        "            for feature in X.columns:\n",
        "                self.feature_probs_table[c][feature] = {}\n",
        "                for value in np.unique(X_c[feature]):\n",
        "                    value_count = np.sum((X_c[feature] == value) & (y[y == c] == c)) # TODO: Calculate the count of data points with the current feature value and the current class\n",
        "                    total_count = np.sum(y == c) # TODO: Calculate the total count of data points with the current feature within the current class\n",
        "                    self.feature_probs_table[c][feature][value] = value_count / total_count # TODO: Calculate and store the conditional probability of the feature value given the class\n",
        "\n",
        "    def predict(self, X):\n",
        "        predictions = [self._predict(x) for x in X.to_dict(orient='records')]\n",
        "        return predictions\n",
        "\n",
        "    def _predict(self, x):\n",
        "        log_posteriors = []\n",
        "\n",
        "        # this for loop implement: log(posteior) = log(prior) + log(likelihood)\n",
        "        for c in self.classes:\n",
        "            log_prior = np.log(self.class_priors[c])\n",
        "            log_likelihood = 0\n",
        "            for feature, value in x.items():\n",
        "                if value in self.feature_probs_table[c][feature]:\n",
        "                    # you can look up the table for the likelihood\n",
        "                    _likelihood = self.feature_probs_table[c][feature][value] # TODO: calculate likelihood by the self.feature_probs_table\n",
        "                else:\n",
        "                    # to fix issue of some cases not appear in the table\n",
        "                    _likelihood = 1 / (len(self.feature_probs_table[c][feature]) + 1)\n",
        "                log_likelihood += np.log(_likelihood)\n",
        "            log_posterior = log_prior + log_likelihood\n",
        "            log_posteriors.append((c, log_posterior))\n",
        "        return max(log_posteriors, key=lambda x: x[1])[0] # TODO: Return the class with the highest logarithm of posterior probability as the predicted class\n"
      ]
    },
    {
      "cell_type": "markdown",
      "metadata": {
        "id": "5m_uQfkmTgyC"
      },
      "source": [
        "## Step 3: Build the classifier and check the correctness of Table building\n",
        "You can easily build an instance of your classifier and then create the table.\n",
        "\n",
        "To check whether you have correctly built the table of the Naive Bayesian classifier, there is an example for you to ensure that your implementation is correct.\n"
      ]
    },
    {
      "cell_type": "code",
      "execution_count": 7,
      "metadata": {
        "id": "sc1CTjeYTfp0"
      },
      "outputs": [],
      "source": [
        "# Create and build the dictionary table for Naive Bayes classifier\n",
        "nb_classifier = NaiveBayes()\n",
        "nb_classifier.build_table(X, y)"
      ]
    },
    {
      "cell_type": "markdown",
      "metadata": {
        "id": "K-f_QvJKZegX"
      },
      "source": [
        "And you also need to output the dictionary variable ***feature_probs_table*** as a pickle file, which will be examined for correctness.\n",
        "> Note: Since this is for checking the implementation of the build_table method, please ensure that the input for your table building, ***X and y,*** is taken from the provided hw2_basic_training.csv file ***BEFORE*** splitting the dataset into training and validation sets.\n",
        "\n",
        "> Hint: Two values for you to check the implementation correctness:\n",
        "\n",
        "> `nb_classifier.feature_probs_table[0]['gcs_eyes_apache'][3]` is\n",
        "0.15299\n",
        "\n",
        "> `nb_classifier.feature_probs_table[1]['gcs_eyes_apache'][3]` is\n",
        "0.15896"
      ]
    },
    {
      "cell_type": "code",
      "execution_count": 8,
      "metadata": {
        "colab": {
          "base_uri": "https://localhost:8080/"
        },
        "id": "lX4vtks6qVaK",
        "outputId": "07815d9d-fe0a-4041-9a07-debf4ceb1171"
      },
      "outputs": [
        {
          "name": "stdout",
          "output_type": "stream",
          "text": [
            "pass\n"
          ]
        }
      ],
      "source": [
        "if round(nb_classifier.feature_probs_table[0]['gcs_eyes_apache'][3], 5) == 0.15299 and \\\n",
        "   round(nb_classifier.feature_probs_table[1]['gcs_eyes_apache'][3], 5) == 0.15896:\n",
        "    print('pass')\n",
        "else:\n",
        "    print('fail')"
      ]
    },
    {
      "cell_type": "code",
      "execution_count": 9,
      "metadata": {
        "id": "2Uia7kWBagdE"
      },
      "outputs": [],
      "source": [
        "# TODO: change your path to save the pickle file\n",
        "pickle_file_path = 'hw2_basic_table'\n",
        "with open(pickle_file_path, 'wb') as table_file:\n",
        "    pickle.dump(nb_classifier.feature_probs_table, table_file)\n",
        "    table_file.close()"
      ]
    },
    {
      "cell_type": "markdown",
      "metadata": {
        "id": "eI3rKUuzZUb4"
      },
      "source": [
        "## Step 4: Split Data\n",
        "Split the data in *X, and y* into the training dataset and validation dataset.\n",
        "> Note: You can use what you have implemented in hw1.\n",
        "\n",
        "Since many students may not understand the meaning of a validation set, let's provide more explanation:\n",
        "\n",
        "The purpose of a validation set is to determine whether our model is overfitting the training data.\n",
        "- Underfitting: If the performance on the training set is poor (e.g., you haven't prepared enough for exam 1).\n",
        "- Overfitting: If the performance on the training set is high, but the performance on the validation set is poor. (e.g., if you've focused solely on practicing with \"past exam papers\" (考古題) for exam 1, you might answer those questions correctly but struggle with new, unfamiliar questions during the actual exam).\n",
        "\n",
        "If we achieve good performance on both the training set and the validation set, it indicates that the model has not only learned from the training data but also has the ability to make accurate inferences on unseen data.\n",
        "\n",
        "![](https://hackmd.io/_uploads/SJLptEZWT.png)"
      ]
    },
    {
      "cell_type": "markdown",
      "metadata": {
        "id": "l5G-VlT4VkYY"
      },
      "source": [
        "Please split the dataset into training set and validation set\n",
        "\n",
        "> Note: The purpose of ***random_state*** is to ensure that you can reproduce the results each time you split your dataset. This is often helpful for debugging.\n"
      ]
    },
    {
      "cell_type": "code",
      "execution_count": 10,
      "metadata": {
        "id": "YuY2DkQAXJh3"
      },
      "outputs": [],
      "source": [
        "def train_val_split(X, y, split_ratio = 0.8, random_state = 16):\n",
        "    ... # TODO: implement your own train_val_split\n",
        "    num_samples = len(X)\n",
        "\n",
        "    random_state_ = np.random.RandomState(random_state)\n",
        "    indices = np.arange(num_samples)\n",
        "    random_state_.shuffle(indices)\n",
        "\n",
        "    split_index = int(num_samples * split_ratio)\n",
        "    train_indices = indices[:split_index]\n",
        "    val_indices = indices[split_index:]\n",
        "\n",
        "    train_indices.sort()\n",
        "    val_indices.sort()\n",
        "    X_train, X_val = X.iloc[train_indices], X.iloc[val_indices]\n",
        "\n",
        "    num_samples = len(y)\n",
        "\n",
        "    random_state = np.random.RandomState(random_state)\n",
        "    indices = np.arange(num_samples)\n",
        "    random_state.shuffle(indices)\n",
        "\n",
        "    split_index = int(num_samples * split_ratio)\n",
        "    train_indices = indices[:split_index]\n",
        "    val_indices = indices[split_index:]\n",
        "\n",
        "    train_indices.sort()\n",
        "    val_indices.sort()\n",
        "    y_train, y_val = y.iloc[train_indices], y.iloc[val_indices]\n",
        "    return X_train, X_val, y_train, y_val"
      ]
    },
    {
      "cell_type": "code",
      "execution_count": 11,
      "metadata": {
        "id": "wonY4SJdVjhF"
      },
      "outputs": [
        {
          "name": "stdout",
          "output_type": "stream",
          "text": [
            "80000 80000\n",
            "64000 16000 64000 16000\n"
          ]
        }
      ],
      "source": [
        "# TODO: Split the data into training and validation sets\n",
        "# Note: please follow template for the format of return variables\n",
        "print(len(X), len(y))\n",
        "X_train, X_val, y_train, y_val = train_val_split(X, y) # TODO\n",
        "print(len(X_train), len(X_val), len(y_train), len(y_val))"
      ]
    },
    {
      "cell_type": "markdown",
      "metadata": {
        "id": "y3BwyXwu0dOq"
      },
      "source": [
        "## Step 5: Make predictions and perform evaluation\n",
        "The method we will evaluate the performance of the Bayesian classifier is ***F1-socre***:\n",
        "\n",
        "$$\\text{precision} = \\frac{\\text{True Positives}}{\\text{True Positives} + \\text{False Positives}}$$\n",
        "\n",
        "$$\\text{Recall} = \\frac{\\text{True Positives}}{\\text{True Positives} + \\text{False Negatives}}$$\n",
        "\n",
        "$$F1\\text{-}score = \\frac{2 \\cdot \\text{precision} \\cdot \\text{recall}}{\\text{precision} + \\text{recall}}$$\n",
        "\n",
        "![](https://hackmd.io/_uploads/B1tfT9UWp.png)\n",
        "\n",
        "Since the number of ground truth ***hospital_death*** where the outcome is positive is much less than the number of negative outcomes, we should focus on the f1-score of the positive class.\n",
        "\n",
        "You need to implement the f1-score function to evaluate the performance of the Naive Bayesian classifier.\n",
        "\n",
        "> Note: You should test your classifier by evaluating it on the training set and the validation set.\n"
      ]
    },
    {
      "cell_type": "code",
      "execution_count": 12,
      "metadata": {
        "id": "QLs0Y-veokCe"
      },
      "outputs": [],
      "source": [
        "def cal_f1_score(y_true, y_pred):\n",
        "    # Calculate True Positives, False Positives, False Negatives\n",
        "    tp = sum(1 for true, pred in zip(y_true, y_pred) if true == 1 and pred == 1)\n",
        "    fp = sum(1 for true, pred in zip(y_true, y_pred) if true == 0 and pred == 1) # TODO: calculate the false positive\n",
        "    fn = sum(1 for true, pred in zip(y_true, y_pred) if true == 1 and pred == 0) # TODO: calculate the false negative\n",
        "    # Calculate precision and recall\n",
        "    precision = tp / (tp + fp) if (tp + fp) > 0 else 0 # TDOO: calculate the precision\n",
        "    recall = tp / (tp + fn) if (tp + fn) > 0 else 0 # TODO: calculate the recall\n",
        "\n",
        "    # Calculate F1-score\n",
        "    f1_score = 2 * (precision * recall) / (precision + recall) if (precision + recall) > 0 else 0 # TODO: calculate the f1-score\n",
        "\n",
        "    return f1_score"
      ]
    },
    {
      "cell_type": "code",
      "execution_count": 13,
      "metadata": {
        "id": "nRtCpU6YtsBK"
      },
      "outputs": [
        {
          "name": "stdout",
          "output_type": "stream",
          "text": [
            "Training F1-Score: 0.3271651647520121\n",
            "Validation F1-Score: 0.320364904749128\n"
          ]
        }
      ],
      "source": [
        "# TODO: Build table on the training set\n",
        "nb_classifier = NaiveBayes()\n",
        "nb_classifier.build_table(X_train, y_train)\n",
        "\n",
        "# TODO: Make predictions on the training set and calculate the f1-score\n",
        "train_predictions = nb_classifier.predict(X_train)\n",
        "train_f1_score = cal_f1_score(y_train, train_predictions)\n",
        "\n",
        "# TODO: Make predictions on the validation set and calculate the f1-score\n",
        "val_predictions = nb_classifier.predict(X_val)\n",
        "val_f1_score = cal_f1_score(y_val, val_predictions)\n",
        "\n",
        "# Print the F1-scores\n",
        "print(f\"Training F1-Score: {train_f1_score}\")\n",
        "print(f\"Validation F1-Score: {val_f1_score}\")"
      ]
    },
    {
      "cell_type": "markdown",
      "metadata": {
        "id": "RgH6lNeJ_IBY"
      },
      "source": [
        "## Step 6: Generate result\n",
        "> Note: Please follow the format mension in the slides, the can only change the path for saving your code down below."
      ]
    },
    {
      "cell_type": "code",
      "execution_count": 14,
      "metadata": {
        "id": "qbeO-EFC_I4K"
      },
      "outputs": [],
      "source": [
        "predictions = nb_classifier.predict(testing_df) # TODO: predict on the testing_df\n",
        "\n",
        "# TODO: Specify the CSV file path\n",
        "csv_file_path = 'hw2_basic_prediction.csv'\n",
        "\n",
        "# Write the predictions to the CSV file\n",
        "with open(csv_file_path, 'w', newline='') as csv_file:\n",
        "    writer = csv.writer(csv_file)\n",
        "    writer.writerow(['hospital_death'])\n",
        "    for prediction in predictions:\n",
        "        writer.writerow([prediction])"
      ]
    },
    {
      "cell_type": "markdown",
      "metadata": {
        "id": "4_yxRh0tyyHR"
      },
      "source": [
        "# **1. Advanced Part (40%)**\n",
        "In advanced part, you need to implement the Gaussian Bayesian classifier:\n",
        "- input features: ***3 physiological features***\n",
        "- output prediction: ***diabetes_mellitus***"
      ]
    },
    {
      "cell_type": "markdown",
      "metadata": {
        "id": "lIXO1GcSAUtG"
      },
      "source": [
        "## Global attributes\n",
        "> You can add your own global attributes here\n"
      ]
    },
    {
      "cell_type": "code",
      "execution_count": null,
      "metadata": {
        "id": "xBrJu6pEAUQQ"
      },
      "outputs": [],
      "source": []
    },
    {
      "cell_type": "markdown",
      "metadata": {
        "id": "eDZpQtgTzBAz"
      },
      "source": [
        "## Step 1: Load the input Data\n",
        "Load the input file **hw2_advanced_training.csv**\n",
        "> Note: please don't change the input var name ***training_df, testing_df, X, and y***."
      ]
    },
    {
      "cell_type": "code",
      "execution_count": 15,
      "metadata": {
        "id": "EICIDlzJy7NB"
      },
      "outputs": [],
      "source": [
        "# TODO: modify your file path\n",
        "training_df = pd.read_csv('hw2_advanced_training.csv')\n",
        "testing_df = pd.read_csv('hw2_advanced_testing.csv')\n",
        "y = training_df['diabetes_mellitus']\n",
        "X = training_df.drop('diabetes_mellitus', axis=1)"
      ]
    },
    {
      "cell_type": "code",
      "execution_count": 16,
      "metadata": {
        "id": "wpwc5bwyDo_6"
      },
      "outputs": [
        {
          "data": {
            "text/html": [
              "<div>\n",
              "<style scoped>\n",
              "    .dataframe tbody tr th:only-of-type {\n",
              "        vertical-align: middle;\n",
              "    }\n",
              "\n",
              "    .dataframe tbody tr th {\n",
              "        vertical-align: top;\n",
              "    }\n",
              "\n",
              "    .dataframe thead th {\n",
              "        text-align: right;\n",
              "    }\n",
              "</style>\n",
              "<table border=\"1\" class=\"dataframe\">\n",
              "  <thead>\n",
              "    <tr style=\"text-align: right;\">\n",
              "      <th></th>\n",
              "      <th>age</th>\n",
              "      <th>bmi</th>\n",
              "      <th>glucose_apache</th>\n",
              "    </tr>\n",
              "  </thead>\n",
              "  <tbody>\n",
              "    <tr>\n",
              "      <th>0</th>\n",
              "      <td>64</td>\n",
              "      <td>40.808081</td>\n",
              "      <td>358.0</td>\n",
              "    </tr>\n",
              "    <tr>\n",
              "      <th>1</th>\n",
              "      <td>82</td>\n",
              "      <td>22.782294</td>\n",
              "      <td>183.0</td>\n",
              "    </tr>\n",
              "    <tr>\n",
              "      <th>2</th>\n",
              "      <td>54</td>\n",
              "      <td>19.651056</td>\n",
              "      <td>84.0</td>\n",
              "    </tr>\n",
              "    <tr>\n",
              "      <th>3</th>\n",
              "      <td>18</td>\n",
              "      <td>29.722807</td>\n",
              "      <td>89.0</td>\n",
              "    </tr>\n",
              "    <tr>\n",
              "      <th>4</th>\n",
              "      <td>46</td>\n",
              "      <td>24.404819</td>\n",
              "      <td>569.0</td>\n",
              "    </tr>\n",
              "    <tr>\n",
              "      <th>5</th>\n",
              "      <td>73</td>\n",
              "      <td>16.366843</td>\n",
              "      <td>267.0</td>\n",
              "    </tr>\n",
              "    <tr>\n",
              "      <th>6</th>\n",
              "      <td>63</td>\n",
              "      <td>26.386867</td>\n",
              "      <td>236.0</td>\n",
              "    </tr>\n",
              "    <tr>\n",
              "      <th>7</th>\n",
              "      <td>40</td>\n",
              "      <td>23.765104</td>\n",
              "      <td>89.0</td>\n",
              "    </tr>\n",
              "    <tr>\n",
              "      <th>8</th>\n",
              "      <td>58</td>\n",
              "      <td>47.528345</td>\n",
              "      <td>89.0</td>\n",
              "    </tr>\n",
              "    <tr>\n",
              "      <th>9</th>\n",
              "      <td>76</td>\n",
              "      <td>39.147070</td>\n",
              "      <td>193.0</td>\n",
              "    </tr>\n",
              "  </tbody>\n",
              "</table>\n",
              "</div>"
            ],
            "text/plain": [
              "   age        bmi  glucose_apache\n",
              "0   64  40.808081           358.0\n",
              "1   82  22.782294           183.0\n",
              "2   54  19.651056            84.0\n",
              "3   18  29.722807            89.0\n",
              "4   46  24.404819           569.0\n",
              "5   73  16.366843           267.0\n",
              "6   63  26.386867           236.0\n",
              "7   40  23.765104            89.0\n",
              "8   58  47.528345            89.0\n",
              "9   76  39.147070           193.0"
            ]
          },
          "execution_count": 16,
          "metadata": {},
          "output_type": "execute_result"
        }
      ],
      "source": [
        "X[:10]"
      ]
    },
    {
      "cell_type": "code",
      "execution_count": 17,
      "metadata": {
        "id": "KQG0xcKaDtDy"
      },
      "outputs": [
        {
          "data": {
            "text/plain": [
              "0    1\n",
              "1    0\n",
              "2    0\n",
              "3    0\n",
              "4    1\n",
              "5    1\n",
              "6    1\n",
              "7    1\n",
              "8    0\n",
              "9    1\n",
              "Name: diabetes_mellitus, dtype: int64"
            ]
          },
          "execution_count": 17,
          "metadata": {},
          "output_type": "execute_result"
        }
      ],
      "source": [
        "y[:10]"
      ]
    },
    {
      "cell_type": "markdown",
      "metadata": {
        "id": "oTzwktNcQ0gV"
      },
      "source": [
        "you can check whether the standardization works"
      ]
    },
    {
      "cell_type": "code",
      "execution_count": 18,
      "metadata": {},
      "outputs": [
        {
          "name": "stdout",
          "output_type": "stream",
          "text": [
            "            age       bmi  glucose_apache\n",
            "0      0.082951  1.357039        2.152864\n",
            "1      1.174317 -0.797281        0.238945\n",
            "2     -0.523363 -1.171506       -0.843787\n",
            "3     -2.706095  0.032202       -0.789103\n",
            "4     -1.008415 -0.603368        4.460505\n",
            "...         ...       ...             ...\n",
            "64995  1.234949 -0.261179       -0.625053\n",
            "64996  0.628634 -0.398056        0.085831\n",
            "64997  0.022320 -0.650290       -0.843787\n",
            "64998 -1.554097  1.782853       -0.340699\n",
            "64999  1.053054 -1.531100       -0.657863\n",
            "\n",
            "[65000 rows x 3 columns]\n"
          ]
        }
      ],
      "source": [
        "mean = X.mean()\n",
        "std = X.std()\n",
        "\n",
        "# Standardize each column\n",
        "X = (X - mean) / std\n",
        "print(X)"
      ]
    },
    {
      "cell_type": "markdown",
      "metadata": {
        "id": "oKKgJmzVzhy_"
      },
      "source": [
        "## Step 2: Implement Gaussian Naive Bayesian classifier\n",
        "In this part, you need to implement the Gaussian Naive Bayesian classifier.\n",
        "\n",
        "The main difference between Naive Bayesian and Gaussian Naive Bayesian is the likelihood part. For Gaussian NB, we can use the probability density function (PDF) of the ***Gaussian distribution*** (also known as the Normal distribution):\n",
        "\n",
        "$$f(x) = \\frac{1}{\\sqrt{2\\pi\\sigma^2}} exp({-\\frac{(x - \\mu)^2}{2\\sigma^2}})$$\n",
        "\n",
        "The reason we need to use Gaussian is that when the data type is continuous numbers instead of discrete numbers, we can't build a table by just counting all the possible cases. However, we can assume the data distribution follows a Gaussian (or Normal) distribution by calculating its mean and variance. Then, we can approximate the values, even if some records don't appear in the training set.\n"
      ]
    },
    {
      "cell_type": "code",
      "execution_count": 19,
      "metadata": {
        "id": "NbKCkAvLzwHK"
      },
      "outputs": [],
      "source": [
        "class GaussianNaiveBayesian:\n",
        "    def build_table(self, X, y):\n",
        "        # classes for ground truth: there are only negative(0) and positive(1) for y (hospital_death)\n",
        "        self.classes = np.unique(y)\n",
        "        # record prior for two classes\n",
        "        self.class_priors = {}\n",
        "        # **feature_mean_var_table** is a 3D dictionary table:\n",
        "        # structure: [class]    [feature]           ['mean'] = mean\n",
        "        # structure: [class]    [feature]           ['var']  = var\n",
        "        # example:   [0]        ['gcs_eyes_apache'] ['mean'] = mean for feature='gcs_eyes_apache' when hospital_death=0\n",
        "        # example:   [0]        ['gcs_eyes_apache'] ['var']  = var for feature='gcs_eyes_apache' when hospital_death=0\n",
        "        self.feature_mean_var_table = {}\n",
        "        for c in self.classes:\n",
        "            X_c = X[y == c]\n",
        "            self.class_priors[c] = len(y[y == c]) / len(y) # TODO: calculate prior\n",
        "            self.feature_mean_var_table[c] = {}\n",
        "            for feature in X.columns:\n",
        "                self.feature_mean_var_table[c][feature] = {}\n",
        "                # Calculate mean and var for each feature\n",
        "                self.feature_mean_var_table[c][feature]['mean'] = X_c[feature].mean() # TDOO: calculate the mean\n",
        "                self.feature_mean_var_table[c][feature]['var'] = X_c[feature].var()  # TODO: calculate the var\n",
        "\n",
        "    def _calculate_likelihood(self, x, mean, var):\n",
        "        exponent = np.exp(-((x - mean) ** 2) / (2 * var))\n",
        "        return (1 / (np.sqrt(2 * np.pi * var))) * exponent\n",
        "        # return ... # TODO: calculate the Gaussian (normal) distribution pdf function as likelihoo\n",
        "\n",
        "    def predict(self, X):\n",
        "        predictions = [self._predict(x) for x in X.to_dict(orient='records')]\n",
        "        return predictions\n",
        "\n",
        "    def _predict(self, x):\n",
        "        log_posteriors = []\n",
        "        # this for loop implement: log(posteior) = log(prior) + log(likelihood)\n",
        "        for c in self.classes:\n",
        "            log_prior = np.log(self.class_priors[c])\n",
        "            log_likelihood = 0\n",
        "            for feature, value in x.items():\n",
        "                mean = self.feature_mean_var_table[c][feature]['mean']\n",
        "                var = self.feature_mean_var_table[c][feature]['var']\n",
        "                log_likelihood += np.log(self._calculate_likelihood(value, mean, var)) # TODO: calculate the log likelihood\n",
        "            log_posterior = log_prior + log_likelihood\n",
        "            log_posteriors.append((c, log_posterior))\n",
        "        return max(log_posteriors, key=lambda x: x[1])[0]\n",
        "        # return ... # TODO: Return the class with the highest logarithm of posterior probability as the predicted class\n"
      ]
    },
    {
      "cell_type": "markdown",
      "metadata": {
        "id": "3FGcgNBK9gs2"
      },
      "source": [
        "## Step 3: Build the classifier and check the correctness of Table building\n",
        "You can easily build an instance of your classifier and then create the table.\n",
        "\n",
        "To check whether you have correctly built the table of the ***Gaussian Naive Bayesian classifier***, there is an example for you to ensure that your implementation is correct.\n"
      ]
    },
    {
      "cell_type": "code",
      "execution_count": 20,
      "metadata": {
        "id": "52cFQayn8FGQ"
      },
      "outputs": [],
      "source": [
        "# Initialize and build_table the model\n",
        "gnb_classifier = GaussianNaiveBayesian()\n",
        "gnb_classifier.build_table(X, y)"
      ]
    },
    {
      "cell_type": "markdown",
      "metadata": {
        "id": "RC-bk7gT-2Ts"
      },
      "source": [
        "And you also need to output the dictionary variable ***feature_mean_var_table*** as a pickle file, which will be examined for correctness.\n",
        "> Note: Since this is for checking the implementation of the build_table method, please ensure that the input for your table building, ***X and y,*** is taken from the provided hw2_advanced_training.csv file ***BEFORE*** splitting the dataset into training and validation sets.\n",
        "\n",
        "> Hint: Two values for you to check the implementation correctness:\n",
        "\n",
        "\n",
        "> `gnb_classifier.feature_mean_var_table[0]['bmi']['mean']` is\n",
        "-0.10014\n",
        "\n",
        "> `gnb_classifier.feature_mean_var_table[0]['bmi']['var']` is\n",
        "0.90803"
      ]
    },
    {
      "cell_type": "code",
      "execution_count": 21,
      "metadata": {
        "colab": {
          "base_uri": "https://localhost:8080/"
        },
        "id": "yRYzPyNIEU0l",
        "outputId": "23296d5d-6f9b-47e4-edf8-aaca0daa0a84"
      },
      "outputs": [
        {
          "name": "stdout",
          "output_type": "stream",
          "text": [
            "pass\n"
          ]
        }
      ],
      "source": [
        "if round(gnb_classifier.feature_mean_var_table[0]['bmi']['mean'], 5) == -0.10014 and \\\n",
        "   round(gnb_classifier.feature_mean_var_table[0]['bmi']['var'], 5) == 0.90803:\n",
        "    print('pass')\n",
        "else:\n",
        "    print('fail')"
      ]
    },
    {
      "cell_type": "code",
      "execution_count": 22,
      "metadata": {
        "id": "zDJLzdxqEUXN"
      },
      "outputs": [],
      "source": [
        "# TODO: change your path to save the pickle file\n",
        "pickle_file_path = 'hw2_advanced_table'\n",
        "with open(pickle_file_path, 'wb') as table_file:\n",
        "    pickle.dump(gnb_classifier.feature_mean_var_table, table_file)\n",
        "    table_file.close()"
      ]
    },
    {
      "cell_type": "markdown",
      "metadata": {
        "id": "xV_-5sKla5Gi"
      },
      "source": [
        "## Step 4 Improve the classifier for Ranking 15%:\n",
        "\n",
        "To make your model have better performance, you can try different ways to modify your model.\n",
        "\n",
        "> hints (**you don't need to follow the hints**):\n",
        "\n",
        "1. You can deal with the **outliers**\n",
        "2. You can try first **converting real numbers into discrete values** and then using Naive Bayesian for classification.\n",
        "3. You can try **def a new class for giving the prior a different weight** for decision-making.\n",
        "4. Anything you want to try based on Bayesian.\n",
        "\n",
        "> Note: You need to consider what kind of operations should also be performed on the testing_df."
      ]
    },
    {
      "cell_type": "code",
      "execution_count": 23,
      "metadata": {
        "id": "T0ZTX6Oca-3G"
      },
      "outputs": [
        {
          "data": {
            "text/plain": [
              "Ellipsis"
            ]
          },
          "execution_count": 23,
          "metadata": {},
          "output_type": "execute_result"
        }
      ],
      "source": [
        "# TODO: you can try the hints written above to get higher ranking score\n",
        "\n",
        "training_df = pd.read_csv('hw2_advanced_training.csv') # TODO: modify your file path\n",
        "testing_df = pd.read_csv('hw2_advanced_testing.csv') # TODO: modify your file path\n",
        "# Note: **you can change the order of following steps if you want**\n",
        "# Note: **BUT, please make sure you have saved 'hw2_advanced_table' for submission BEFORE making the following improvements.**\n",
        "\n",
        "... # hints(optional): deal with outliers\n",
        "... # hints(optional): converting real numbers into discrete values\n",
        "... # hints(optional): def a new class for giving the prior a different weight\n",
        "... # hints: Split the data into training and validation sets\n",
        "... # hints: build table for Bayesian Classifier\n",
        "... # anything you want to try based on Bayesian"
      ]
    },
    {
      "cell_type": "code",
      "execution_count": 24,
      "metadata": {},
      "outputs": [
        {
          "name": "stdout",
          "output_type": "stream",
          "text": [
            "age Max: 89, min: 16\n",
            "bmi Max: 67.81498973, min: 14.84492591\n",
            "glucose_apache Max: 598.7, min: 39.0\n",
            "\n",
            "age Max: 89, min: 16\n",
            "bmi Max: 67.81498973, min: 14.84492591\n",
            "glucose_apache Max: 598.7, min: 39.0\n",
            "diabetes_mellitus Max: 1, min: 0\n"
          ]
        }
      ],
      "source": [
        "for feature in testing_df.columns:\n",
        "    print(feature, f'Max: {max(testing_df[feature])}, min: {min(testing_df[feature])}')\n",
        "print()\n",
        "for feature in training_df.columns:\n",
        "    print(feature, f'Max: {max(training_df[feature])}, min: {min(training_df[feature])}')"
      ]
    },
    {
      "cell_type": "code",
      "execution_count": 25,
      "metadata": {},
      "outputs": [
        {
          "data": {
            "image/png": "[encoded data removed]",
            "text/plain": [
              "<Figure size 640x480 with 1 Axes>"
            ]
          },
          "metadata": {},
          "output_type": "display_data"
        },
        {
          "data": {
            "image/png": "[encoded data removed]",
            "text/plain": [
              "<Figure size 640x480 with 1 Axes>"
            ]
          },
          "metadata": {},
          "output_type": "display_data"
        },
        {
          "data": {
            "image/png": "[encoded data removed]",
            "text/plain": [
              "<Figure size 640x480 with 1 Axes>"
            ]
          },
          "metadata": {},
          "output_type": "display_data"
        }
      ],
      "source": [
        "import matplotlib.pyplot as plt\n",
        "\n",
        "plt.hist(training_df['age'], bins=24)\n",
        "plt.show()\n",
        "plt.hist(training_df['bmi'], bins=24)\n",
        "plt.show()\n",
        "plt.hist(training_df['glucose_apache'], bins=40)\n",
        "plt.show()"
      ]
    },
    {
      "cell_type": "code",
      "execution_count": 26,
      "metadata": {},
      "outputs": [
        {
          "data": {
            "text/plain": [
              "65000"
            ]
          },
          "execution_count": 26,
          "metadata": {},
          "output_type": "execute_result"
        }
      ],
      "source": [
        "len(training_df)"
      ]
    },
    {
      "cell_type": "code",
      "execution_count": 27,
      "metadata": {},
      "outputs": [
        {
          "name": "stdout",
          "output_type": "stream",
          "text": [
            "[16, 36, 48, 54, 58, 62, 66, 70, 74, 78, 82, 86]\n",
            "['16-35', '36-47', '48-53', '54-57', '58-61', '62-65', '66-69', '70-73', '74-77', '78-81', '82-85']\n",
            "age_categories\n",
            "66-69    6372\n",
            "70-73    6248\n",
            "62-65    6024\n",
            "36-47    5936\n",
            "48-53    5721\n",
            "74-77    5657\n",
            "58-61    5500\n",
            "16-35    5329\n",
            "78-81    5287\n",
            "54-57    5022\n",
            "82-85    4606\n",
            "Name: count, dtype: int64\n"
          ]
        }
      ],
      "source": [
        "import pandas as pd\n",
        "\n",
        "# Define the bin edges and labels for discretization\n",
        "# You can customize these as per your needs\n",
        "bin_edges = [16, 36, 48, 54] + [i for i in range(58, 90, 4)]  # Define the edges of bins\n",
        "print(bin_edges)\n",
        "bin_labels = ['{}-{}'.format(start, end-1) for start, end in zip(bin_edges, bin_edges[1:])]\n",
        "print(bin_labels)\n",
        "# Discretize the 'age' column in the 'training_df' DataFrame\n",
        "training_df['age_categories'] = pd.cut(training_df['age'], bins=bin_edges, labels=bin_labels, right=False)\n",
        "age_counts = training_df['age_categories'].value_counts()\n",
        "# Display the DataFrame with the discretized 'age' column\n",
        "print(age_counts)\n"
      ]
    },
    {
      "cell_type": "code",
      "execution_count": 28,
      "metadata": {},
      "outputs": [
        {
          "data": {
            "text/plain": [
              "[16, 35, 46, 52, 57, 61, 65, 69, 73, 77, 81, 86]"
            ]
          },
          "execution_count": 28,
          "metadata": {},
          "output_type": "execute_result"
        }
      ],
      "source": [
        "def split5000(df, col):\n",
        "    N = len(df)\n",
        "    df_sorted = df.sort_values(by=col)\n",
        "    df_sorted = df_sorted.reset_index(drop=True)\n",
        "    boundaries = [df_sorted[col][0]]\n",
        "    ind = 5000\n",
        "    while ind < len(df_sorted):\n",
        "        current_element = df_sorted[col][ind]\n",
        "        boundaries.append(current_element)\n",
        "        \n",
        "        while ind+1 < N and current_element == df_sorted[col][ind+1]:\n",
        "            ind += 1\n",
        "        ind += 5000\n",
        "    return boundaries\n",
        "age_split = split5000(training_df, 'age')\n",
        "bmi_split = split5000(training_df, 'bmi')\n",
        "glucose_split = split5000(training_df, 'glucose_apache')\n"
      ]
    },
    {
      "cell_type": "code",
      "execution_count": null,
      "metadata": {},
      "outputs": [
        {
          "ename": "NameError",
          "evalue": "name 'num_bins' is not defined",
          "output_type": "error",
          "traceback": [
            "\u001b[1;31m---------------------------------------------------------------------------\u001b[0m",
            "\u001b[1;31mNameError\u001b[0m                                 Traceback (most recent call last)",
            "\u001b[1;32mc:\\Users\\zijun0502\\Desktop\\ML\\HW2\\hw2_template.ipynb Cell 52\u001b[0m line \u001b[0;36m1\n\u001b[1;32m----> <a href='vscode-notebook-cell://ssh-remote%2B123.195.32.16/c%3A/Users/zijun0502/Desktop/ML/HW2/hw2_template.ipynb#Y102sdnNjb2RlLXJlbW90ZQ%3D%3D?line=0'>1</a>\u001b[0m bin_edges \u001b[39m=\u001b[39m [\u001b[39mfloat\u001b[39m(x) \u001b[39mfor\u001b[39;00m x \u001b[39min\u001b[39;00m \u001b[39mrange\u001b[39m(\u001b[39m0\u001b[39m, num_bins \u001b[39m+\u001b[39m \u001b[39m1\u001b[39m)]\n\u001b[0;32m      <a href='vscode-notebook-cell://ssh-remote%2B123.195.32.16/c%3A/Users/zijun0502/Desktop/ML/HW2/hw2_template.ipynb#Y102sdnNjb2RlLXJlbW90ZQ%3D%3D?line=1'>2</a>\u001b[0m bin_labels \u001b[39m=\u001b[39m [\u001b[39m'\u001b[39m\u001b[39m[\u001b[39m\u001b[39m{}\u001b[39;00m\u001b[39m-\u001b[39m\u001b[39m{}\u001b[39;00m\u001b[39m)\u001b[39m\u001b[39m'\u001b[39m\u001b[39m.\u001b[39mformat(start, end) \u001b[39mfor\u001b[39;00m start, end \u001b[39min\u001b[39;00m \u001b[39mzip\u001b[39m(bin_edges, bin_edges[\u001b[39m1\u001b[39m:])]\n\u001b[0;32m      <a href='vscode-notebook-cell://ssh-remote%2B123.195.32.16/c%3A/Users/zijun0502/Desktop/ML/HW2/hw2_template.ipynb#Y102sdnNjb2RlLXJlbW90ZQ%3D%3D?line=2'>3</a>\u001b[0m \u001b[39mfor\u001b[39;00m col \u001b[39min\u001b[39;00m df\u001b[39m.\u001b[39mcolumns:\n",
            "\u001b[1;31mNameError\u001b[0m: name 'num_bins' is not defined"
          ]
        }
      ],
      "source": [
        "bin_labels = ['[{}-{})'.format(start, end) for start, end in zip(bin_edges, bin_edges[1:])]\n",
        "df[column_name + '_category'] = pd.cut(df[column_name], \n",
        "                                bins=age_split, \n",
        "                                labels=bin_labels\n",
        "                                )"
      ]
    },
    {
      "cell_type": "code",
      "execution_count": null,
      "metadata": {},
      "outputs": [
        {
          "name": "stdout",
          "output_type": "stream",
          "text": [
            "[16, 35, 46, 52, 57, 61, 65, 69, 73, 77, 81, 86]\n"
          ]
        }
      ],
      "source": [
        "print(age_split)"
      ]
    },
    {
      "cell_type": "markdown",
      "metadata": {},
      "source": [
        "### Get Rid of Outliers"
      ]
    },
    {
      "cell_type": "code",
      "execution_count": null,
      "metadata": {},
      "outputs": [],
      "source": [
        "# len(X)"
      ]
    },
    {
      "cell_type": "code",
      "execution_count": null,
      "metadata": {},
      "outputs": [],
      "source": [
        "# z_score_threshold = 2\n",
        "\n",
        "# # Calculate the z-scores for each column\n",
        "# z_scores = np.abs((X - X.mean()) / X.std())\n",
        "\n",
        "# # Filter out rows with z-scores exceeding the threshold\n",
        "# X = X[(z_scores <= z_score_threshold).all(axis=1)]"
      ]
    },
    {
      "cell_type": "code",
      "execution_count": null,
      "metadata": {},
      "outputs": [],
      "source": [
        "# len(X)"
      ]
    },
    {
      "cell_type": "markdown",
      "metadata": {},
      "source": [
        "### Discretization\n",
        "Age: split into 5 years intervals\n",
        "BMI: split into 2 intervals (20-22, 22-24...)"
      ]
    },
    {
      "cell_type": "code",
      "execution_count": null,
      "metadata": {},
      "outputs": [],
      "source": []
    },
    {
      "cell_type": "markdown",
      "metadata": {
        "id": "3VtFVxggz7I4"
      },
      "source": [
        "## Step 5: Make predictions and perform evaluation\n",
        "You should test your model by evaluating the training set and validation set using the ***cal_f1_score*** function you implemented.\n"
      ]
    },
    {
      "cell_type": "code",
      "execution_count": null,
      "metadata": {
        "id": "415sqX0D_jFY"
      },
      "outputs": [],
      "source": [
        "... # TODO: build table on the training set\n",
        "... # TODO: Make predictions on training set and calculate the f1-score\n",
        "... # TODO: Make predictions on validation set and calculate the f1-score"
      ]
    },
    {
      "cell_type": "markdown",
      "metadata": {
        "id": "LJWF-tfA_Q9d"
      },
      "source": [
        "## Step 6: Generate result\n",
        "> Note: Please follow the format mentioned in the slides. You can only change the path for saving your code down below.\n"
      ]
    },
    {
      "cell_type": "code",
      "execution_count": 1,
      "metadata": {
        "id": "ZX6FV9tRK6Fp"
      },
      "outputs": [
        {
          "ename": "NameError",
          "evalue": "name 'csv' is not defined",
          "output_type": "error",
          "traceback": [
            "\u001b[1;31m---------------------------------------------------------------------------\u001b[0m",
            "\u001b[1;31mNameError\u001b[0m                                 Traceback (most recent call last)",
            "\u001b[1;32mc:\\Users\\zijun0502\\Desktop\\ML\\HW2\\hw2_template.ipynb Cell 62\u001b[0m line \u001b[0;36m8\n\u001b[0;32m      <a href='vscode-notebook-cell://ssh-remote%2B123.195.32.16/c%3A/Users/zijun0502/Desktop/ML/HW2/hw2_template.ipynb#Y115sdnNjb2RlLXJlbW90ZQ%3D%3D?line=5'>6</a>\u001b[0m \u001b[39m# Write the predictions to the CSV file\u001b[39;00m\n\u001b[0;32m      <a href='vscode-notebook-cell://ssh-remote%2B123.195.32.16/c%3A/Users/zijun0502/Desktop/ML/HW2/hw2_template.ipynb#Y115sdnNjb2RlLXJlbW90ZQ%3D%3D?line=6'>7</a>\u001b[0m \u001b[39mwith\u001b[39;00m \u001b[39mopen\u001b[39m(csv_file_path, \u001b[39m'\u001b[39m\u001b[39mw\u001b[39m\u001b[39m'\u001b[39m, newline\u001b[39m=\u001b[39m\u001b[39m'\u001b[39m\u001b[39m'\u001b[39m) \u001b[39mas\u001b[39;00m csv_file:\n\u001b[1;32m----> <a href='vscode-notebook-cell://ssh-remote%2B123.195.32.16/c%3A/Users/zijun0502/Desktop/ML/HW2/hw2_template.ipynb#Y115sdnNjb2RlLXJlbW90ZQ%3D%3D?line=7'>8</a>\u001b[0m     writer \u001b[39m=\u001b[39m csv\u001b[39m.\u001b[39mwriter(csv_file)\n\u001b[0;32m      <a href='vscode-notebook-cell://ssh-remote%2B123.195.32.16/c%3A/Users/zijun0502/Desktop/ML/HW2/hw2_template.ipynb#Y115sdnNjb2RlLXJlbW90ZQ%3D%3D?line=8'>9</a>\u001b[0m     writer\u001b[39m.\u001b[39mwriterow([\u001b[39m'\u001b[39m\u001b[39mPrediction\u001b[39m\u001b[39m'\u001b[39m])\n\u001b[0;32m     <a href='vscode-notebook-cell://ssh-remote%2B123.195.32.16/c%3A/Users/zijun0502/Desktop/ML/HW2/hw2_template.ipynb#Y115sdnNjb2RlLXJlbW90ZQ%3D%3D?line=9'>10</a>\u001b[0m     \u001b[39mfor\u001b[39;00m prediction \u001b[39min\u001b[39;00m predictions:\n",
            "\u001b[1;31mNameError\u001b[0m: name 'csv' is not defined"
          ]
        }
      ],
      "source": [
        "predictions = ... # TODO: predict on the testing_df\n",
        "\n",
        "# TODO: Specify the CSV file path\n",
        "csv_file_path = 'hw2_advanced_prediction.csv'\n",
        "\n",
        "# Write the predictions to the CSV file\n",
        "with open(csv_file_path, 'w', newline='') as csv_file:\n",
        "    writer = csv.writer(csv_file)\n",
        "    writer.writerow(['Prediction'])\n",
        "    for prediction in predictions:\n",
        "        writer.writerow([prediction])"
      ]
    },
    {
      "cell_type": "markdown",
      "metadata": {
        "id": "17MKZrvgSQMK"
      },
      "source": [
        "# Report *(5%)*\n",
        "\n",
        "Report should be submitted as a pdf file **hw2_report.pdf**\n",
        "\n",
        "* Briefly describe why we take log when implement the Bayesian classifier? (1%)\n",
        "* Briefly describe the difference between Naïve Bayesian and Gaussian Naïve Bayesian classifier? (1%)\n",
        "* Briefly describe the difficulty you encountered (1%)\n",
        "* Summarize how you solve the difficulty and your reflections (2%)\n",
        "* **No more than one page**"
      ]
    },
    {
      "cell_type": "markdown",
      "metadata": {
        "id": "j4P5yTr4Sa3k"
      },
      "source": [
        "# Save the Code File\n",
        "Please save your code and submit it as an ipynb file! (**hw2.ipynb**)"
      ]
    },
    {
      "cell_type": "markdown",
      "metadata": {
        "id": "I24lVr726Y2h"
      },
      "source": [
        "# Submission:\n",
        "1. hw2_basic_prediction.csv\n",
        "2. hw2_basic_table: **make sure you build_table BEFORE split train_val set, and pass the given example**\n",
        "3. hw2_advanced_prediction.csv\n",
        "4. hw2_advanced_table: **make sure you build_table BEFORE split train_val set or pre-processing, and pass the given example**\n",
        "5. hw2.ipynb\n",
        "6. hw2_report.pdf"
      ]
    }
  ],
  "metadata": {
    "colab": {
      "provenance": [],
      "toc_visible": true
    },
    "kernelspec": {
      "display_name": "Python 3",
      "name": "python3"
    },
    "language_info": {
      "codemirror_mode": {
        "name": "ipython",
        "version": 3
      },
      "file_extension": ".py",
      "mimetype": "text/x-python",
      "name": "python",
      "nbconvert_exporter": "python",
      "pygments_lexer": "ipython3",
      "version": "3.9.6"
    }
  },
  "nbformat": 4,
  "nbformat_minor": 0
}
